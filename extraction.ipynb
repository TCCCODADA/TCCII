{
 "cells": [
  {
   "cell_type": "markdown",
   "metadata": {},
   "source": [
    "# 1. Importando bibliotecas"
   ]
  },
  {
   "cell_type": "code",
   "execution_count": 44,
   "metadata": {},
   "outputs": [],
   "source": [
    "import yfinance as yf\n",
    "import pandas as pd\n",
    "import twelvedata\n",
    "import requests\n",
    "import time"
   ]
  },
  {
   "cell_type": "markdown",
   "metadata": {},
   "source": [
    "# 2. Baixando os dados historicos das ações"
   ]
  },
  {
   "cell_type": "code",
   "execution_count": 43,
   "metadata": {},
   "outputs": [
    {
     "name": "stderr",
     "output_type": "stream",
     "text": [
      "[*********************100%***********************]  1 of 1 completed\n",
      "[*********************100%***********************]  1 of 1 completed\n",
      "[*********************100%***********************]  1 of 1 completed\n",
      "[*********************100%***********************]  1 of 1 completed\n",
      "[*********************100%***********************]  1 of 1 completed\n",
      "[*********************100%***********************]  1 of 1 completed\n",
      "[*********************100%***********************]  1 of 1 completed\n"
     ]
    },
    {
     "name": "stdout",
     "output_type": "stream",
     "text": [
      "CPU times: total: 234 ms\n",
      "Wall time: 214 ms\n"
     ]
    },
    {
     "data": {
      "text/plain": [
       "'\\n    Informacao sobre os dados historicos gerados:\\n        É gerado um DataFrame com as seguintes variáveis / colunas para cada acao ---> \\n            \"Date\"     : representa a data do registro no formato \"AAAA-MM-DD\"\\n            \"Open\"     : Preco de abertura do dia\\n            \"High\"     : Preco mais alto do dia\\n            \"Low\"      : Preco mais baixo do dia\\n            \"Close\"    : Preco de fechamendo do dia\\n            \"Adj Close\": Preco de fechamento ajustado. Esse valor serve para ser usado em dividendos, splits de acoes, etc... (Eventos corporativos)\\n            \"Volume\"   : Representa o numero total de acoes negociadas durante o dia\\n'"
      ]
     },
     "execution_count": 43,
     "metadata": {},
     "output_type": "execute_result"
    }
   ],
   "source": [
    "%%time\n",
    "\n",
    "lista_acoes = [    \n",
    "    'PETR4.SA', # Petrobras\n",
    "    'TAEE11.SA',   # Taesa    \n",
    "    'NVDA',     # Nvidia\n",
    "    'BBAS3.SA',    # Bradesco\n",
    "    'NFLX',     # Netflix     \n",
    "    'EA',       # EA\n",
    "    'TSLA']     # Tesla\n",
    "\n",
    "data_inicio = '2020-01-01' # data de inicio do historico que voce deseja obter\n",
    "data_fim = '2023-12-31'    # data final do perido para o historico\n",
    "# FORMATO-> \"AAAA-MM-DD\" \n",
    "\n",
    "\n",
    "for acao in lista_acoes:    \n",
    "    data = yf.download(acao, start=data_inicio, end=data_fim) # baixa os dados historicos das acoes colocadas na lista \"lista_acoes\"\n",
    "\n",
    "    data_df_pandas = pd.DataFrame(data) # transforma os dados baixados em um DataFrame pandas para podermos transforma-lo em um csv\n",
    "    data_df_pandas.to_csv(\"Dados historicos/hist_\"+acao) # transformando o df em um csv e salvando na pasta \"Dados historicos\"\n",
    "\n",
    "\"\"\"\n",
    "    Informacao sobre os dados historicos gerados:\n",
    "        É gerado um DataFrame com as seguintes variáveis / colunas para cada acao ---> \n",
    "            \"Date\"     : representa a data do registro no formato \"AAAA-MM-DD\"\n",
    "            \"Open\"     : Preco de abertura do dia\n",
    "            \"High\"     : Preco mais alto do dia\n",
    "            \"Low\"      : Preco mais baixo do dia\n",
    "            \"Close\"    : Preco de fechamendo do dia\n",
    "            \"Adj Close\": Preco de fechamento ajustado. Esse valor serve para ser usado em dividendos, splits de acoes, etc... (Eventos corporativos)\n",
    "            \"Volume\"   : Representa o numero total de acoes negociadas durante o dia\n",
    "\"\"\"\n"
   ]
  },
  {
   "cell_type": "markdown",
   "metadata": {},
   "source": [
    "# 3. Indicadores tecnicos"
   ]
  },
  {
   "cell_type": "markdown",
   "metadata": {},
   "source": [
    "## 3.2 Chave API"
   ]
  },
  {
   "cell_type": "code",
   "execution_count": 35,
   "metadata": {},
   "outputs": [],
   "source": [
    "chave_api = \"...\""
   ]
  },
  {
   "cell_type": "markdown",
   "metadata": {},
   "source": [
    "## 3.1 Extração"
   ]
  },
  {
   "cell_type": "markdown",
   "metadata": {},
   "source": [
    "### 3.1.1 SMA"
   ]
  },
  {
   "cell_type": "code",
   "execution_count": 45,
   "metadata": {},
   "outputs": [],
   "source": [
    "for acao in lista_acoes:\n",
    "    sma_url = f'https://api.twelvedata.com/sma?symbol={acao}&interval=1day&outputsize=24&apikey={chave_api}'\n",
    "    sma_dados = requests.get(sma_url)\n",
    "    df = pd.DataFrame(sma_dados)\n",
    "    df\n",
    "\n",
    "df = pd.DataFrame(sma_dados)\n",
    "df"
   ]
  }
 ],
 "metadata": {
  "kernelspec": {
   "display_name": "Python 3",
   "language": "python",
   "name": "python3"
  },
  "language_info": {
   "codemirror_mode": {
    "name": "ipython",
    "version": 3
   },
   "file_extension": ".py",
   "mimetype": "text/x-python",
   "name": "python",
   "nbconvert_exporter": "python",
   "pygments_lexer": "ipython3",
   "version": "3.10.2"
  }
 },
 "nbformat": 4,
 "nbformat_minor": 2
}
