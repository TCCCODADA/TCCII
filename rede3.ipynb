{
 "cells": [
  {
   "cell_type": "code",
   "execution_count": 27,
   "metadata": {},
   "outputs": [],
   "source": [
    "#!pip install numpy pandas matplotlib scikit-learn tensorflow keras"
   ]
  },
  {
   "cell_type": "code",
   "execution_count": 28,
   "metadata": {},
   "outputs": [],
   "source": [
    "import numpy as np\n",
    "import pandas as pd\n",
    "import matplotlib.pyplot as plt\n",
    "\n",
    "from sklearn.preprocessing import MinMaxScaler\n",
    "from sklearn.model_selection import TimeSeriesSplit\n",
    "from sklearn.metrics import mean_squared_error, mean_absolute_error, classification_report, confusion_matrix, accuracy_score, precision_score, recall_score, f1_score\n",
    "\n",
    "from tensorflow.keras.models import Sequential\n",
    "from tensorflow.keras.layers import Conv1D, MaxPooling1D, Flatten, Dense, LSTM, Dropout\n",
    "from tensorflow.keras.callbacks import EarlyStopping\n",
    "\n",
    "import os"
   ]
  },
  {
   "cell_type": "markdown",
   "metadata": {},
   "source": [
    "## Carregando os dados e colocando a coluna 'Date' como índice"
   ]
  },
  {
   "cell_type": "code",
   "execution_count": 29,
   "metadata": {},
   "outputs": [
    {
     "name": "stdout",
     "output_type": "stream",
     "text": [
      "        Date    Open       High        Low      Close  Adj Close      Volume  \\\n",
      "0 2020-01-29  25.500  25.690001  24.680000  24.730000  18.055990  16800400.0   \n",
      "1 2020-01-30  24.350  24.995001  24.184999  24.900000  18.180117  25079800.0   \n",
      "2 2020-01-31  24.555  24.559999  24.110001  24.270000  17.720137  32252800.0   \n",
      "3 2020-02-03  24.275  24.570000  24.004999  24.389999  17.807749  20402800.0   \n",
      "4 2020-02-04  24.645  24.799999  24.125000  24.125000  17.614269  23533200.0   \n",
      "\n",
      "    SMA_10     EMA_10     RSI_10      MACD  MACD_Histogram  BBL_20_2.0  \\\n",
      "0  24.9610  25.132101  40.316762 -0.407259        0.043456   23.842415   \n",
      "1  24.9785  25.089901  43.272728 -0.397243        0.042777   23.898938   \n",
      "2  24.8995  24.940828  35.942692 -0.435126        0.003916   23.906795   \n",
      "3  24.8485  24.840677  38.159656 -0.450275       -0.008986   23.925546   \n",
      "4  24.8430  24.710554  35.172752 -0.478152       -0.029490   23.906871   \n",
      "\n",
      "   BBM_20_2.0  BBU_20_2.0  BBB_20_2.0  BBP_20_2.0   ATRr_14    stoch_k  \\\n",
      "0    25.37925   26.916085   12.110956    0.288770  0.657309  49.601297   \n",
      "1    25.27925   26.659562   10.920515    0.362622  0.671421  51.425920   \n",
      "2    25.15000   26.393205    9.886323    0.146076  0.682155  35.471343   \n",
      "3    25.04450   26.163454    8.935726    0.207539  0.671748  29.165458   \n",
      "4    24.93575   25.964629    8.252241    0.106003  0.672032  14.464147   \n",
      "\n",
      "     stoch_d  \n",
      "0  52.955596  \n",
      "1  51.777618  \n",
      "2  45.499520  \n",
      "3  38.687573  \n",
      "4  26.366983  \n",
      "        Date        Open        High         Low       Close   Adj Close  \\\n",
      "0 2020-01-30  111.430000  111.889999  110.309998  111.639999  109.192337   \n",
      "1 2020-01-31  110.750000  110.750000  105.500000  107.919998  105.553894   \n",
      "2 2020-02-03  107.930000  109.449997  104.400002  105.040001  102.737030   \n",
      "3 2020-02-04  106.440002  107.419998  105.330002  107.070000  104.722519   \n",
      "4 2020-02-05  108.620003  108.959999  107.120003  107.820000  105.456093   \n",
      "\n",
      "      Volume      SMA_10      EMA_10     RSI_10      MACD  MACD_Histogram  \\\n",
      "0  3838500.0  112.181001  111.597334  56.094663  1.126726        0.015456   \n",
      "1  6995800.0  111.847000  110.928727  36.025554  0.762303       -0.279174   \n",
      "2  4155500.0  111.058000  109.858050  27.547514  0.238355       -0.642497   \n",
      "3  4190500.0  110.524000  109.351131  38.822976 -0.012924       -0.715021   \n",
      "4  2895700.0  109.997000  109.072744  42.496622 -0.149819       -0.681533   \n",
      "\n",
      "   BBL_20_2.0  BBM_20_2.0  BBU_20_2.0  BBB_20_2.0  BBP_20_2.0   ATRr_14  \\\n",
      "0  106.714054    110.4985  114.282945    6.849768    0.650815  1.866291   \n",
      "1  106.832480    110.5275  114.222519    6.686154    0.147160  2.261275   \n",
      "2  106.246421    110.4195  114.592579    7.558591   -0.144548  2.513715   \n",
      "3  105.964608    110.3340  114.703392    7.920300    0.126493  2.501837   \n",
      "4  105.878701    110.3055  114.732299    8.026433    0.219267  2.448420   \n",
      "\n",
      "     stoch_k    stoch_d  \n",
      "0  63.504799  61.370895  \n",
      "1  51.224717  57.879055  \n",
      "2  30.876484  48.535333  \n",
      "3  20.686731  34.262644  \n",
      "4  23.055837  24.873017  \n",
      "        Date        Open        High         Low       Close   Adj Close  \\\n",
      "0 2020-01-30  341.100006  348.200012  339.250000  347.739990  347.739990   \n",
      "1 2020-01-31  347.390015  347.390015  340.980011  345.089996  345.089996   \n",
      "2 2020-02-03  347.239990  359.630005  346.279999  358.000000  358.000000   \n",
      "3 2020-02-04  361.000000  369.570007  356.100006  369.010010  369.010010   \n",
      "4 2020-02-05  375.130005  375.250000  362.299988  369.670013  369.670013   \n",
      "\n",
      "      Volume      SMA_10      EMA_10     RSI_10      MACD  MACD_Histogram  \\\n",
      "0  5328100.0  342.745999  343.245081  57.522049  4.064595        0.866425   \n",
      "1  5230000.0  343.392999  343.580520  54.647610  3.967749        0.615663   \n",
      "2  6670600.0  345.225998  346.202244  64.303344  4.876514        1.219542   \n",
      "3  7161500.0  348.316000  350.349111  70.295994  6.411227        2.203405   \n",
      "4  6437000.0  352.683002  353.862002  70.624462  7.593226        2.708323   \n",
      "\n",
      "   BBL_20_2.0  BBM_20_2.0  BBU_20_2.0  BBB_20_2.0  BBP_20_2.0    ATRr_14  \\\n",
      "0  323.536462  338.520000  353.503538    8.852380    0.807671  10.993144   \n",
      "1  324.599594  339.284000  353.968405    8.656115    0.697693  10.601907   \n",
      "2  325.411304  340.889000  356.366696    9.080784    1.052763  10.958390   \n",
      "3  323.013686  342.548001  362.082316   11.405301    1.177321  11.181485   \n",
      "4  322.454856  344.494002  366.533147   12.795082    1.071166  11.335889   \n",
      "\n",
      "     stoch_k    stoch_d  \n",
      "0  63.098818  63.311982  \n",
      "1  59.944802  60.557829  \n",
      "2  73.590775  65.544798  \n",
      "3  84.320362  72.618646  \n",
      "4  94.291631  84.067590  \n",
      "        Date     Open     High      Low    Close  Adj Close       Volume  \\\n",
      "0 2020-01-30  6.04025  6.15875  5.98500  6.14525   6.120016  290504000.0   \n",
      "1 2020-01-31  6.09925  6.11125  5.86875  5.91075   5.886480  370420000.0   \n",
      "2 2020-02-03  5.89250  6.02775  5.88625  6.00825   5.983579  255564000.0   \n",
      "3 2020-02-04  6.15075  6.19750  6.10050  6.17825   6.152881  271544000.0   \n",
      "4 2020-02-05  6.29975  6.31000  6.18525  6.26900   6.243258  208220000.0   \n",
      "\n",
      "     SMA_10    EMA_10     RSI_10      MACD  MACD_Histogram  BBL_20_2.0  \\\n",
      "0  6.197800  6.160902  50.255836  0.039786       -0.008726    5.889337   \n",
      "1  6.166550  6.115419  37.040416  0.016798       -0.025372    5.872733   \n",
      "2  6.144175  6.095934  43.860417  0.006373       -0.028637    5.893122   \n",
      "3  6.142150  6.110901  53.598139  0.011694       -0.018653    5.924531   \n",
      "4  6.143775  6.139646  57.926777  0.022969       -0.005902    5.942424   \n",
      "\n",
      "   BBM_20_2.0  BBU_20_2.0  BBB_20_2.0  BBP_20_2.0   ATRr_14    stoch_k  \\\n",
      "0    6.130800    6.372263    7.877034    0.529922  0.171109  52.108551   \n",
      "1    6.126450    6.380167    8.282684    0.074920  0.180850  38.002687   \n",
      "2    6.131775    6.370428    7.784140    0.241204  0.177288  31.634276   \n",
      "3    6.144362    6.364194    7.155549    0.577076  0.178350  33.247770   \n",
      "4    6.157900    6.373376    6.998362    0.757801  0.174282  50.763965   \n",
      "\n",
      "     stoch_d  \n",
      "0  49.674762  \n",
      "1  45.120817  \n",
      "2  40.581838  \n",
      "3  34.294911  \n",
      "4  38.548670  \n",
      "        Date       Open       High        Low      Close  Adj Close  \\\n",
      "0 2020-01-29  29.000000  29.080000  28.670000  28.850000   9.981386   \n",
      "1 2020-01-30  28.280001  29.040001  28.180000  28.940001  10.012523   \n",
      "2 2020-01-31  28.629999  28.840000  28.309999  28.450001   9.842996   \n",
      "3 2020-02-03  28.520000  28.730000  28.160000  28.180000   9.749581   \n",
      "4 2020-02-04  28.650000  29.040001  28.559999  28.629999   9.905271   \n",
      "\n",
      "       Volume  SMA_10     EMA_10     RSI_10      MACD  MACD_Histogram  \\\n",
      "0  42297500.0  29.291  29.236263  37.600867 -0.471141       -0.126467   \n",
      "1  44266800.0  29.233  29.182397  39.395227 -0.466857       -0.097746   \n",
      "2  55446700.0  29.093  29.049234  33.557649 -0.497268       -0.102526   \n",
      "3  39452800.0  28.911  28.891192  30.766439 -0.536966       -0.113779   \n",
      "4  57658400.0  28.812  28.843702  40.007140 -0.526052       -0.082292   \n",
      "\n",
      "   BBL_20_2.0  BBM_20_2.0  BBU_20_2.0  BBB_20_2.0  BBP_20_2.0   ATRr_14  \\\n",
      "0   28.402096     29.8305   31.258904    9.576805    0.156785  0.657606   \n",
      "1   28.322375     29.7425   31.162625    9.549465    0.217455  0.676312   \n",
      "2   28.155640     29.6425   31.129361   10.031951    0.098987  0.672119   \n",
      "3   27.995495     29.5110   31.026505   10.270780    0.060872  0.663049   \n",
      "4   27.948019     29.4080   30.867981    9.929139    0.233558  0.680244   \n",
      "\n",
      "     stoch_k    stoch_d  \n",
      "0  30.839083  26.644553  \n",
      "1  42.306278  32.517223  \n",
      "2  39.537936  37.561099  \n",
      "3  32.334063  38.059426  \n",
      "4  30.164604  34.012201  \n",
      "        Date       Open       High        Low      Close  Adj Close  \\\n",
      "0 2020-01-29  31.980000  32.080002  31.700001  31.799999  20.701065   \n",
      "1 2020-01-30  31.450001  31.680000  30.850000  31.250000  20.343027   \n",
      "2 2020-01-31  31.309999  31.379999  30.850000  31.129999  20.264910   \n",
      "3 2020-02-03  31.100000  31.620001  31.059999  31.240000  20.336519   \n",
      "4 2020-02-04  31.500000  31.750000  31.190001  31.219999  20.323503   \n",
      "\n",
      "      Volume  SMA_10     EMA_10     RSI_10      MACD  MACD_Histogram  \\\n",
      "0   991300.0  31.724  31.642134  61.191478  0.306002        0.086246   \n",
      "1  1447700.0  31.780  31.570837  47.118924  0.257412        0.030124   \n",
      "2  1272100.0  31.761  31.490684  44.630668  0.206836       -0.016361   \n",
      "3  2246000.0  31.685  31.445105  47.456751  0.173629       -0.039655   \n",
      "4  1185200.0  31.614  31.404177  46.972400  0.144038       -0.055397   \n",
      "\n",
      "   BBL_20_2.0  BBM_20_2.0  BBU_20_2.0  BBB_20_2.0  BBP_20_2.0   ATRr_14  \\\n",
      "0   29.814114     31.1540   32.493886    8.601696    0.741065  0.530255   \n",
      "1   29.841932     31.1745   32.507068    8.549092    0.528329  0.569049   \n",
      "2   29.869261     31.1910   32.512740    8.475133    0.476924  0.565514   \n",
      "3   29.884876     31.2035   32.522124    8.451772    0.513840  0.565024   \n",
      "4   29.942326     31.2335   32.524674    8.267879    0.494772  0.564586   \n",
      "\n",
      "     stoch_k    stoch_d  \n",
      "0  76.424285  80.598074  \n",
      "1  66.803854  74.409397  \n",
      "2  52.531834  65.253324  \n",
      "3  40.920446  53.418711  \n",
      "4  38.065297  43.839192  \n",
      "        Date       Open       High        Low      Close  Adj Close  \\\n",
      "0 2020-01-30  42.161331  43.391998  41.200001  42.720669  42.720669   \n",
      "1 2020-01-31  42.666668  43.533333  42.167999  43.371334  43.371334   \n",
      "2 2020-02-03  44.912666  52.409332  44.901333  52.000000  52.000000   \n",
      "3 2020-02-04  58.863998  64.599335  55.591999  59.137333  59.137333   \n",
      "4 2020-02-05  54.883999  56.398666  46.940666  48.980000  48.980000   \n",
      "\n",
      "        Volume     SMA_10     EMA_10     RSI_10      MACD  MACD_Histogram  \\\n",
      "0  435085500.0  37.496600  37.734858  85.787607  2.639939        0.550914   \n",
      "1  235789500.0  38.410467  38.759672  86.677273  2.930907        0.673505   \n",
      "2  705975000.0  40.207133  41.167004  93.069622  3.813799        1.245117   \n",
      "3  914082000.0  42.472867  44.434337  95.190505  5.031421        1.970192   \n",
      "4  726357000.0  43.573800  45.260821  64.148610  5.117789        1.645248   \n",
      "\n",
      "   BBL_20_2.0  BBM_20_2.0  BBU_20_2.0  BBB_20_2.0  BBP_20_2.0   ATRr_14  \\\n",
      "0   27.812377   34.837566   41.862756   40.331117    1.061060  1.971172   \n",
      "1   28.210692   35.571933   42.933175   41.387919    1.029761  1.915179   \n",
      "2   26.906177   36.695233   46.484289   53.353283    1.281728  2.559948   \n",
      "3   24.751718   38.146966   51.542215   70.229691    1.283500  3.451703   \n",
      "4   25.237119   39.032433   52.827747   70.686417    0.860541  4.215197   \n",
      "\n",
      "     stoch_k    stoch_d  \n",
      "0  87.117057  81.736019  \n",
      "1  93.899932  87.137657  \n",
      "2  96.906199  92.641063  \n",
      "3  93.073154  94.626429  \n",
      "4  77.197608  89.058987  \n"
     ]
    }
   ],
   "source": [
    "caminho_pasta = 'Base_dados'\n",
    "lista_arquivos = [arquivo for arquivo in os.listdir(caminho_pasta) if os.path.isfile(os.path.join(caminho_pasta, arquivo))]\n",
    "\n",
    "for arq in lista_arquivos:\n",
    "    #converte a coluna 'Date' para o tipo datetime\n",
    "    df = pd.read_csv(f'Base_dados/{arq}', parse_dates=['Date'])\n",
    "    df = df.sort_values('Date')\n",
    "    # Verificar se a coluna 'Date' existe e definir como índice\n",
    "    # if 'Date' in df.columns:\n",
    "    #     df = df.set_index('Date')\n",
    "    print(df.head())\n"
   ]
  },
  {
   "cell_type": "code",
   "execution_count": 30,
   "metadata": {},
   "outputs": [
    {
     "name": "stdout",
     "output_type": "stream",
     "text": [
      "<class 'pandas.core.frame.DataFrame'>\n",
      "RangeIndex: 1174 entries, 0 to 1173\n",
      "Data columns (total 20 columns):\n",
      " #   Column          Non-Null Count  Dtype         \n",
      "---  ------          --------------  -----         \n",
      " 0   Date            1174 non-null   datetime64[ns]\n",
      " 1   Open            1174 non-null   float64       \n",
      " 2   High            1174 non-null   float64       \n",
      " 3   Low             1174 non-null   float64       \n",
      " 4   Close           1174 non-null   float64       \n",
      " 5   Adj Close       1174 non-null   float64       \n",
      " 6   Volume          1174 non-null   float64       \n",
      " 7   SMA_10          1174 non-null   float64       \n",
      " 8   EMA_10          1174 non-null   float64       \n",
      " 9   RSI_10          1174 non-null   float64       \n",
      " 10  MACD            1174 non-null   float64       \n",
      " 11  MACD_Histogram  1174 non-null   float64       \n",
      " 12  BBL_20_2.0      1174 non-null   float64       \n",
      " 13  BBM_20_2.0      1174 non-null   float64       \n",
      " 14  BBU_20_2.0      1174 non-null   float64       \n",
      " 15  BBB_20_2.0      1174 non-null   float64       \n",
      " 16  BBP_20_2.0      1174 non-null   float64       \n",
      " 17  ATRr_14         1174 non-null   float64       \n",
      " 18  stoch_k         1174 non-null   float64       \n",
      " 19  stoch_d         1174 non-null   float64       \n",
      "dtypes: datetime64[ns](1), float64(19)\n",
      "memory usage: 183.6 KB\n"
     ]
    }
   ],
   "source": [
    "df.info()"
   ]
  },
  {
   "cell_type": "markdown",
   "metadata": {},
   "source": [
    "# 1 - Pré-Processamento dos Dados"
   ]
  },
  {
   "cell_type": "markdown",
   "metadata": {},
   "source": [
    "## 1.1 - Selecionar Colunas Relevantes"
   ]
  },
  {
   "cell_type": "code",
   "execution_count": 31,
   "metadata": {},
   "outputs": [],
   "source": [
    "#hist_TSLA\n",
    "data = df['Close'].values"
   ]
  },
  {
   "cell_type": "markdown",
   "metadata": {},
   "source": [
    "## 1.2 - Criação de Variável Alvo (Classificação)\n",
    "Como você mencionou métricas como acurácia, falso negativo e F1-score, que são usadas em problemas de classificação, vamos converter o problema em uma tarefa de classificação binária (por exemplo, prever se o preço da ação vai subir ou descer no próximo dia)."
   ]
  },
  {
   "cell_type": "code",
   "execution_count": 32,
   "metadata": {},
   "outputs": [],
   "source": [
    "df['Target'] = np.where(df['Close'].shift(-1) > df['Close'], 1, 0)"
   ]
  },
  {
   "cell_type": "markdown",
   "metadata": {},
   "source": [
    "## 1.3 - Seleção de Recursos (Features)"
   ]
  },
  {
   "cell_type": "code",
   "execution_count": 33,
   "metadata": {},
   "outputs": [],
   "source": [
    "features = ['Open', 'High', 'Low', 'Close', 'Volume']\n",
    "X = df[features].values\n",
    "y = df['Target'].values"
   ]
  },
  {
   "cell_type": "markdown",
   "metadata": {},
   "source": [
    "## 1.4 - Normalização dos Dados"
   ]
  },
  {
   "cell_type": "code",
   "execution_count": 34,
   "metadata": {},
   "outputs": [],
   "source": [
    "scaler = MinMaxScaler()\n",
    "X_scaled = scaler.fit_transform(X)"
   ]
  },
  {
   "cell_type": "markdown",
   "metadata": {},
   "source": [
    "# 2 - Criação de Sequências para Treinamento"
   ]
  },
  {
   "cell_type": "code",
   "execution_count": 35,
   "metadata": {},
   "outputs": [],
   "source": [
    "# Defina o tamanho da janela de tempo (por exemplo, 60 dias):\n",
    "window_size = 60\n",
    "\n",
    "# Criando sequências de dados\n",
    "def create_sequences(data, target, window_size):\n",
    "    X = []\n",
    "    y = []\n",
    "    for i in range(len(data) - window_size):\n",
    "        X.append(data[i:i+window_size])\n",
    "        y.append(target[i+window_size])\n",
    "    return np.array(X), np.array(y)\n",
    "\n",
    "\n"
   ]
  },
  {
   "cell_type": "markdown",
   "metadata": {},
   "source": [
    "# 3 - Redimensionamento dos Dados"
   ]
  },
  {
   "cell_type": "code",
   "execution_count": 36,
   "metadata": {},
   "outputs": [],
   "source": [
    "# Redimensionando X para 3 dimensões (necessário para Conv1D)\n",
    "X = np.expand_dims(X, axis=2)"
   ]
  },
  {
   "cell_type": "markdown",
   "metadata": {},
   "source": [
    "# 5 - Construção do Modelo CNN"
   ]
  },
  {
   "cell_type": "code",
   "execution_count": 37,
   "metadata": {},
   "outputs": [],
   "source": [
    "model = Sequential()"
   ]
  },
  {
   "cell_type": "markdown",
   "metadata": {},
   "source": [
    "## 5.2 - Compilando Modelo"
   ]
  },
  {
   "cell_type": "code",
   "execution_count": 38,
   "metadata": {},
   "outputs": [],
   "source": [
    "model.compile(optimizer='adam', loss='binary_crossentropy', metrics=['accuracy'])"
   ]
  },
  {
   "cell_type": "markdown",
   "metadata": {},
   "source": [
    "# 10 - Análise Estatística ao Longo dos Anos"
   ]
  },
  {
   "cell_type": "markdown",
   "metadata": {},
   "source": [
    "## 10.1 - Preparar dados para Múltiplos Anos:\n",
    "\n",
    "Vamos dividir os dados por ano e treinar/testar o modelo para cada ano, coletando as métricas de desempenho para calcular a média e o desvio padrão."
   ]
  },
  {
   "cell_type": "code",
   "execution_count": 39,
   "metadata": {},
   "outputs": [
    {
     "name": "stdout",
     "output_type": "stream",
     "text": [
      "2/2 [==============================] - 0s 3ms/step\n",
      "Ano: 2020\n",
      "Acurácia: 0.5094, Precisão: 0.5510, Recall: 0.8710, F1-Score: 0.6750\n",
      "\n",
      "2/2 [==============================] - 0s 3ms/step\n",
      "Ano: 2021\n",
      "Acurácia: 0.6034, Precisão: 0.6222, Recall: 0.8235, F1-Score: 0.7089\n",
      "\n",
      "2/2 [==============================] - 0s 3ms/step\n",
      "Ano: 2022\n",
      "Acurácia: 0.6034, Precisão: 0.5385, Recall: 0.5600, F1-Score: 0.5490\n",
      "\n",
      "WARNING:tensorflow:5 out of the last 9 calls to <function Model.make_predict_function.<locals>.predict_function at 0x00000211476EA520> triggered tf.function retracing. Tracing is expensive and the excessive number of tracings could be due to (1) creating @tf.function repeatedly in a loop, (2) passing tensors with different shapes, (3) passing Python objects instead of tensors. For (1), please define your @tf.function outside of the loop. For (2), @tf.function has reduce_retracing=True option that can avoid unnecessary retracing. For (3), please refer to https://www.tensorflow.org/guide/function#controlling_retracing and https://www.tensorflow.org/api_docs/python/tf/function for  more details.\n",
      "2/2 [==============================] - 0s 3ms/step\n",
      "Ano: 2023\n",
      "Acurácia: 0.5263, Precisão: 0.5370, Recall: 0.9355, F1-Score: 0.6824\n",
      "\n",
      "WARNING:tensorflow:6 out of the last 11 calls to <function Model.make_predict_function.<locals>.predict_function at 0x00000211497D7E20> triggered tf.function retracing. Tracing is expensive and the excessive number of tracings could be due to (1) creating @tf.function repeatedly in a loop, (2) passing tensors with different shapes, (3) passing Python objects instead of tensors. For (1), please define your @tf.function outside of the loop. For (2), @tf.function has reduce_retracing=True option that can avoid unnecessary retracing. For (3), please refer to https://www.tensorflow.org/guide/function#controlling_retracing and https://www.tensorflow.org/api_docs/python/tf/function for  more details.\n",
      "2/2 [==============================] - 0s 3ms/step\n",
      "Ano: 2024\n",
      "Acurácia: 0.6154, Precisão: 0.7143, Recall: 0.6250, F1-Score: 0.6667\n",
      "\n"
     ]
    }
   ],
   "source": [
    "#Inicializar listas para armazenar métricas:\n",
    "accuracies = []\n",
    "precisions = []\n",
    "recalls = []\n",
    "f1_scores = []\n",
    "years_list = []\n",
    "\n",
    "#Obter os anos únicos no dataframe:\n",
    "df['Date'] = pd.to_datetime(df['Date'])\n",
    "years = df['Date'].dt.year.unique()\n",
    "\n",
    "for year in years:\n",
    "    # Filtrar dados do ano atual\n",
    "    df_year = df[df['Date'].dt.year == year].reset_index(drop=True)\n",
    "    \n",
    "    # Verificar se há dados suficientes\n",
    "    if len(df_year) > window_size:\n",
    "        # Selecionar as features e o alvo\n",
    "        X_data = df_year[features].values\n",
    "        y_data = df_year['Target'].values\n",
    "        \n",
    "        # Criar sequências\n",
    "        X_sequences, y_sequences = create_sequences(X_data, y_data, window_size)\n",
    "        \n",
    "        # Dividir em treino e teste (70% treino, 30% teste)\n",
    "        split = int(0.7 * len(X_sequences))\n",
    "        X_train, X_test = X_sequences[:split], X_sequences[split:]\n",
    "        y_train, y_test = y_sequences[:split], y_sequences[split:]\n",
    "        \n",
    "        # Construir o modelo\n",
    "        model = Sequential()\n",
    "        model.add(Conv1D(filters=64, kernel_size=3, activation='relu', input_shape=(window_size, len(features))))\n",
    "        model.add(MaxPooling1D(pool_size=2))\n",
    "        model.add(Flatten())\n",
    "        model.add(Dense(50, activation='relu'))\n",
    "        model.add(Dense(1, activation='sigmoid'))\n",
    "        \n",
    "        model.compile(optimizer='adam', loss='binary_crossentropy', metrics=['accuracy'])\n",
    "        \n",
    "        # Treinar o modelo\n",
    "        model.fit(X_train, y_train, epochs=10, batch_size=32, verbose=0)\n",
    "        \n",
    "        # Avaliar o modelo\n",
    "        y_pred = (model.predict(X_test) > 0.5).astype(\"int32\")\n",
    "        \n",
    "        # Calcular métricas\n",
    "        accuracy = accuracy_score(y_test, y_pred)\n",
    "        precision = precision_score(y_test, y_pred, zero_division=0)\n",
    "        recall = recall_score(y_test, y_pred, zero_division=0)\n",
    "        f1 = f1_score(y_test, y_pred, zero_division=0)\n",
    "        \n",
    "        # Armazenar métricas\n",
    "        accuracies.append(accuracy)\n",
    "        precisions.append(precision)\n",
    "        recalls.append(recall)\n",
    "        f1_scores.append(f1)\n",
    "        years_list.append(year)\n",
    "        \n",
    "        # Exibir resultados\n",
    "        print(f\"Ano: {year}\")\n",
    "        print(f\"Acurácia: {accuracy:.4f}, Precisão: {precision:.4f}, Recall: {recall:.4f}, F1-Score: {f1:.4f}\\n\")\n",
    "    else:\n",
    "        print(f\"Ano: {year} não possui dados suficientes para treinamento e teste.\\n\")"
   ]
  },
  {
   "cell_type": "markdown",
   "metadata": {},
   "source": [
    "## 10.2 - Calcular Média e Desvio Padrão da Acurácia"
   ]
  },
  {
   "cell_type": "code",
   "execution_count": 40,
   "metadata": {},
   "outputs": [
    {
     "name": "stdout",
     "output_type": "stream",
     "text": [
      "Métricas Médias e Desvios Padrão:\n",
      "Acurácia Média: 0.5716, Desvio Padrão: 0.0444\n",
      "Precisão Média: 0.5926, Desvio Padrão: 0.0685\n",
      "Recall Médio: 0.7630, Desvio Padrão: 0.1451\n",
      "F1-Score Médio: 0.6564, Desvio Padrão: 0.0555\n"
     ]
    }
   ],
   "source": [
    "mean_accuracy = np.mean(accuracies)\n",
    "std_accuracy = np.std(accuracies)\n",
    "\n",
    "mean_precision = np.mean(precisions)\n",
    "std_precision = np.std(precisions)\n",
    "\n",
    "mean_recall = np.mean(recalls)\n",
    "std_recall = np.std(recalls)\n",
    "\n",
    "mean_f1 = np.mean(f1_scores)\n",
    "std_f1 = np.std(f1_scores)\n",
    "\n",
    "print(\"Métricas Médias e Desvios Padrão:\")\n",
    "print(f\"Acurácia Média: {mean_accuracy:.4f}, Desvio Padrão: {std_accuracy:.4f}\")\n",
    "print(f\"Precisão Média: {mean_precision:.4f}, Desvio Padrão: {std_precision:.4f}\")\n",
    "print(f\"Recall Médio: {mean_recall:.4f}, Desvio Padrão: {std_recall:.4f}\")\n",
    "print(f\"F1-Score Médio: {mean_f1:.4f}, Desvio Padrão: {std_f1:.4f}\")"
   ]
  },
  {
   "cell_type": "markdown",
   "metadata": {},
   "source": [
    "## 11 - Visualização dos Resultados ao Longo dos Anos"
   ]
  },
  {
   "cell_type": "code",
   "execution_count": 41,
   "metadata": {},
   "outputs": [
    {
     "data": {
      "image/png": "[encoded data removed]",
      "text/plain": [
       "<Figure size 1200x600 with 1 Axes>"
      ]
     },
     "metadata": {},
     "output_type": "display_data"
    }
   ],
   "source": [
    "#Plotar métricas por ano\n",
    "\n",
    "plt.figure(figsize=(12,6))\n",
    "plt.plot(years_list, accuracies, label='Acurácia')\n",
    "plt.plot(years_list, precisions, label='Precisão')\n",
    "plt.plot(years_list, recalls, label='Recall')\n",
    "plt.plot(years_list, f1_scores, label='F1-Score')\n",
    "plt.xlabel('Ano')\n",
    "plt.ylabel('Métrica')\n",
    "plt.title('Desempenho do Modelo ao Longo dos Anos')\n",
    "plt.legend()\n",
    "plt.show()"
   ]
  },
  {
   "cell_type": "markdown",
   "metadata": {},
   "source": [
    "# 12 - Testar Diversos Modelos"
   ]
  },
  {
   "cell_type": "markdown",
   "metadata": {},
   "source": [
    "Para melhorar o desempenho, podemos testar diferentes modelos e arquiteturas.\n",
    "\n",
    "Variar hiperparâmetros e arquiteturas:\n",
    "- Alterar o número de filtros e o tamanho do kernel na camada Conv1D.\n",
    "- Adicionar mais camadas convolucionais ou densas.\n",
    "- Experimentar com diferentes funções de ativação.\n",
    "- Ajustar o número de épocas e o tamanho do batch.\n",
    "\n",
    "Comparar com outros modelos:\n",
    "- LSTM: Modelos de Redes Neurais Recorrentes adequados para séries temporais."
   ]
  },
  {
   "cell_type": "code",
   "execution_count": 42,
   "metadata": {},
   "outputs": [],
   "source": [
    "# Substituir a camada Conv1D por LSTM\n",
    "model = Sequential()\n",
    "model.add(LSTM(50, return_sequences=False, input_shape=(window_size, len(features))))\n",
    "model.add(Dense(1, activation='sigmoid'))\n"
   ]
  },
  {
   "cell_type": "markdown",
   "metadata": {},
   "source": [
    "Modelos Clássicos: Testar modelos como ARIMA ou Random Forest."
   ]
  },
  {
   "cell_type": "markdown",
   "metadata": {},
   "source": [
    "# 13 - Avaliação e Comparação dos Modelos\n",
    "Armazenar resultados de diferentes modelos"
   ]
  },
  {
   "cell_type": "code",
   "execution_count": 43,
   "metadata": {},
   "outputs": [],
   "source": [
    "results = []\n",
    "\n",
    "# Após treinar e avaliar cada modelo, armazenar as métricas\n",
    "results.append({\n",
    "    'Modelo': 'CNN Básica',\n",
    "    'Acurácia Média': mean_accuracy,\n",
    "    'Desvio Padrão Acurácia': std_accuracy,\n",
    "    'Precisão Média': mean_precision,\n",
    "    'Desvio Padrão Precisão': std_precision,\n",
    "    # ... outras métricas\n",
    "})"
   ]
  },
  {
   "cell_type": "code",
   "execution_count": 44,
   "metadata": {},
   "outputs": [
    {
     "name": "stdout",
     "output_type": "stream",
     "text": [
      "       Modelo  Acurácia Média  Desvio Padrão Acurácia  Precisão Média  \\\n",
      "0  CNN Básica        0.571606                0.044409        0.592605   \n",
      "\n",
      "   Desvio Padrão Precisão  \n",
      "0                0.068457  \n"
     ]
    }
   ],
   "source": [
    "# Comparar os modelos\n",
    "# Criar um DataFrame com os resultados\n",
    "results_df = pd.DataFrame(results)\n",
    "\n",
    "# Exibir a tabela comparativa\n",
    "print(results_df)"
   ]
  },
  {
   "cell_type": "markdown",
   "metadata": {},
   "source": [
    "Documentação e Análise Final\n",
    "\n",
    "Documentar cada experimento:\n",
    "- Descrever a arquitetura do modelo.\n",
    "- Listar os hiperparâmetros utilizados.\n",
    "- Apresentar as métricas de desempenho.\n",
    "\n",
    "Análise Crítica:\n",
    "- Identificar quais modelos apresentaram melhor desempenho e possíveis razões.\n",
    "- Discutir a consistência dos resultados ao longo dos anos.\n",
    "- Considerar fatores externos que podem ter influenciado os resultados (por exemplo, eventos econômicos).\n",
    "\n",
    "Conclusões:\n",
    "- Resumir os principais achados do estudo.\n",
    "- Sugerir melhorias para trabalhos futuros.\n",
    "- Destacar a importância de utilizar múltiplos anos de dados para obter resultados estatisticamente significativos."
   ]
  },
  {
   "cell_type": "markdown",
   "metadata": {},
   "source": [
    "Considerações Finais\n",
    "\n",
    "- Manutenção da Ordem Temporal: É essencial manter a sequência temporal dos dados em problemas de séries temporais para evitar vazamento de informações e obter previsões realistas.\n",
    "- Validação Cruzada em Séries Temporais: Em vez de usar a validação cruzada tradicional, utilize técnicas específicas para séries temporais, como a divisão em blocos temporais.\n",
    "- Análise de Métricas: Além da acurácia, utilize métricas como precisão, recall e F1-score para uma avaliação mais completa do modelo, especialmente em casos de classes desbalanceadas.\n",
    "- Reprodutibilidade: Garanta que todo o código e experimentos sejam reprodutíveis, documentando as versões das bibliotecas e fixando seeds aleatórias quando necessário."
   ]
  },
  {
   "cell_type": "markdown",
   "metadata": {},
   "source": [
    "Dicas Adicionais\n",
    "\n",
    "- Exploração de Dados: Realize uma análise exploratória dos dados para entender padrões e tendências que possam ser úteis no modelo.\n",
    "- Feature Engineering: Considere criar novas features, como indicadores técnicos (Médias Móveis, RSI, etc.), que podem melhorar o desempenho do modelo.\n",
    "- Regularização e Overfitting: Utilize técnicas como Dropout, Early Stopping e Regularização L2 para prevenir overfitting.\n",
    "- Interpretação do Modelo: Embora modelos de deep learning sejam frequentemente considerados \"caixas pretas\", ferramentas como SHAP e LIME podem ajudar a interpretar as previsões."
   ]
  }
 ],
 "metadata": {
  "kernelspec": {
   "display_name": "base",
   "language": "python",
   "name": "python3"
  },
  "language_info": {
   "codemirror_mode": {
    "name": "ipython",
    "version": 3
   },
   "file_extension": ".py",
   "mimetype": "text/x-python",
   "name": "python",
   "nbconvert_exporter": "python",
   "pygments_lexer": "ipython3",
   "version": "3.11.9"
  }
 },
 "nbformat": 4,
 "nbformat_minor": 2
}
