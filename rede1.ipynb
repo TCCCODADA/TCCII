{
 "cells": [
  {
   "cell_type": "code",
   "execution_count": 18,
   "metadata": {},
   "outputs": [],
   "source": [
    "#!pip install numpy pandas matplotlib scikit-learn tensorflow keras"
   ]
  },
  {
   "cell_type": "code",
   "execution_count": 41,
   "metadata": {},
   "outputs": [],
   "source": [
    "import numpy as np\n",
    "import pandas as pd\n",
    "import matplotlib.pyplot as plt\n",
    "\n",
    "from sklearn.preprocessing import MinMaxScaler\n",
    "from sklearn.model_selection import TimeSeriesSplit\n",
    "from sklearn.metrics import mean_squared_error, mean_absolute_error, classification_report, confusion_matrix, accuracy_score, precision_score, recall_score, f1_score\n",
    "\n",
    "from tensorflow.keras.models import Sequential\n",
    "from tensorflow.keras.layers import Conv1D, MaxPooling1D, Flatten, Dense, LSTM, Dropout\n",
    "from tensorflow.keras.callbacks import EarlyStopping\n",
    "\n",
    "import os"
   ]
  },
  {
   "cell_type": "markdown",
   "metadata": {},
   "source": [
    "## Carregando os dados e colocando a coluna 'Date' como índice"
   ]
  },
  {
   "cell_type": "code",
   "execution_count": 33,
   "metadata": {},
   "outputs": [
    {
     "name": "stdout",
     "output_type": "stream",
     "text": [
      "        Date    Open       High        Low      Close  Adj Close      Volume  \\\n",
      "0 2020-01-29  25.500  25.690001  24.680000  24.730000  18.055990  16800400.0   \n",
      "1 2020-01-30  24.350  24.995001  24.184999  24.900000  18.180117  25079800.0   \n",
      "2 2020-01-31  24.555  24.559999  24.110001  24.270000  17.720137  32252800.0   \n",
      "3 2020-02-03  24.275  24.570000  24.004999  24.389999  17.807749  20402800.0   \n",
      "4 2020-02-04  24.645  24.799999  24.125000  24.125000  17.614269  23533200.0   \n",
      "\n",
      "    SMA_10     EMA_10     RSI_10      MACD  MACD_Histogram  BBL_20_2.0  \\\n",
      "0  24.9610  25.132101  40.316762 -0.407259        0.043456   23.842415   \n",
      "1  24.9785  25.089901  43.272728 -0.397243        0.042777   23.898938   \n",
      "2  24.8995  24.940828  35.942692 -0.435126        0.003916   23.906795   \n",
      "3  24.8485  24.840677  38.159656 -0.450275       -0.008986   23.925546   \n",
      "4  24.8430  24.710554  35.172752 -0.478152       -0.029490   23.906871   \n",
      "\n",
      "   BBM_20_2.0  BBU_20_2.0  BBB_20_2.0  BBP_20_2.0   ATRr_14    stoch_k  \\\n",
      "0    25.37925   26.916085   12.110956    0.288770  0.657309  49.601297   \n",
      "1    25.27925   26.659562   10.920515    0.362622  0.671421  51.425920   \n",
      "2    25.15000   26.393205    9.886323    0.146076  0.682155  35.471343   \n",
      "3    25.04450   26.163454    8.935726    0.207539  0.671748  29.165458   \n",
      "4    24.93575   25.964629    8.252241    0.106003  0.672032  14.464147   \n",
      "\n",
      "     stoch_d  \n",
      "0  52.955596  \n",
      "1  51.777618  \n",
      "2  45.499520  \n",
      "3  38.687573  \n",
      "4  26.366983  \n",
      "        Date        Open        High         Low       Close   Adj Close  \\\n",
      "0 2020-01-30  111.430000  111.889999  110.309998  111.639999  109.192337   \n",
      "1 2020-01-31  110.750000  110.750000  105.500000  107.919998  105.553894   \n",
      "2 2020-02-03  107.930000  109.449997  104.400002  105.040001  102.737030   \n",
      "3 2020-02-04  106.440002  107.419998  105.330002  107.070000  104.722519   \n",
      "4 2020-02-05  108.620003  108.959999  107.120003  107.820000  105.456093   \n",
      "\n",
      "      Volume      SMA_10      EMA_10     RSI_10      MACD  MACD_Histogram  \\\n",
      "0  3838500.0  112.181001  111.597334  56.094663  1.126726        0.015456   \n",
      "1  6995800.0  111.847000  110.928727  36.025554  0.762303       -0.279174   \n",
      "2  4155500.0  111.058000  109.858050  27.547514  0.238355       -0.642497   \n",
      "3  4190500.0  110.524000  109.351131  38.822976 -0.012924       -0.715021   \n",
      "4  2895700.0  109.997000  109.072744  42.496622 -0.149819       -0.681533   \n",
      "\n",
      "   BBL_20_2.0  BBM_20_2.0  BBU_20_2.0  BBB_20_2.0  BBP_20_2.0   ATRr_14  \\\n",
      "0  106.714054    110.4985  114.282945    6.849768    0.650815  1.866291   \n",
      "1  106.832480    110.5275  114.222519    6.686154    0.147160  2.261275   \n",
      "2  106.246421    110.4195  114.592579    7.558591   -0.144548  2.513715   \n",
      "3  105.964608    110.3340  114.703392    7.920300    0.126493  2.501837   \n",
      "4  105.878701    110.3055  114.732299    8.026433    0.219267  2.448420   \n",
      "\n",
      "     stoch_k    stoch_d  \n",
      "0  63.504799  61.370895  \n",
      "1  51.224717  57.879055  \n",
      "2  30.876484  48.535333  \n",
      "3  20.686731  34.262644  \n",
      "4  23.055837  24.873017  \n",
      "        Date        Open        High         Low       Close   Adj Close  \\\n",
      "0 2020-01-30  341.100006  348.200012  339.250000  347.739990  347.739990   \n",
      "1 2020-01-31  347.390015  347.390015  340.980011  345.089996  345.089996   \n",
      "2 2020-02-03  347.239990  359.630005  346.279999  358.000000  358.000000   \n",
      "3 2020-02-04  361.000000  369.570007  356.100006  369.010010  369.010010   \n",
      "4 2020-02-05  375.130005  375.250000  362.299988  369.670013  369.670013   \n",
      "\n",
      "      Volume      SMA_10      EMA_10     RSI_10      MACD  MACD_Histogram  \\\n",
      "0  5328100.0  342.745999  343.245081  57.522049  4.064595        0.866425   \n",
      "1  5230000.0  343.392999  343.580520  54.647610  3.967749        0.615663   \n",
      "2  6670600.0  345.225998  346.202244  64.303344  4.876514        1.219542   \n",
      "3  7161500.0  348.316000  350.349111  70.295994  6.411227        2.203405   \n",
      "4  6437000.0  352.683002  353.862002  70.624462  7.593226        2.708323   \n",
      "\n",
      "   BBL_20_2.0  BBM_20_2.0  BBU_20_2.0  BBB_20_2.0  BBP_20_2.0    ATRr_14  \\\n",
      "0  323.536462  338.520000  353.503538    8.852380    0.807671  10.993144   \n",
      "1  324.599594  339.284000  353.968405    8.656115    0.697693  10.601907   \n",
      "2  325.411304  340.889000  356.366696    9.080784    1.052763  10.958390   \n",
      "3  323.013686  342.548001  362.082316   11.405301    1.177321  11.181485   \n",
      "4  322.454856  344.494002  366.533147   12.795082    1.071166  11.335889   \n",
      "\n",
      "     stoch_k    stoch_d  \n",
      "0  63.098818  63.311982  \n",
      "1  59.944802  60.557829  \n",
      "2  73.590775  65.544798  \n",
      "3  84.320362  72.618646  \n",
      "4  94.291631  84.067590  \n",
      "        Date     Open     High      Low    Close  Adj Close       Volume  \\\n",
      "0 2020-01-30  6.04025  6.15875  5.98500  6.14525   6.120016  290504000.0   \n",
      "1 2020-01-31  6.09925  6.11125  5.86875  5.91075   5.886480  370420000.0   \n",
      "2 2020-02-03  5.89250  6.02775  5.88625  6.00825   5.983579  255564000.0   \n",
      "3 2020-02-04  6.15075  6.19750  6.10050  6.17825   6.152881  271544000.0   \n",
      "4 2020-02-05  6.29975  6.31000  6.18525  6.26900   6.243258  208220000.0   \n",
      "\n",
      "     SMA_10    EMA_10     RSI_10      MACD  MACD_Histogram  BBL_20_2.0  \\\n",
      "0  6.197800  6.160902  50.255836  0.039786       -0.008726    5.889337   \n",
      "1  6.166550  6.115419  37.040416  0.016798       -0.025372    5.872733   \n",
      "2  6.144175  6.095934  43.860417  0.006373       -0.028637    5.893122   \n",
      "3  6.142150  6.110901  53.598139  0.011694       -0.018653    5.924531   \n",
      "4  6.143775  6.139646  57.926777  0.022969       -0.005902    5.942424   \n",
      "\n",
      "   BBM_20_2.0  BBU_20_2.0  BBB_20_2.0  BBP_20_2.0   ATRr_14    stoch_k  \\\n",
      "0    6.130800    6.372263    7.877034    0.529922  0.171109  52.108551   \n",
      "1    6.126450    6.380167    8.282684    0.074920  0.180850  38.002687   \n",
      "2    6.131775    6.370428    7.784140    0.241204  0.177288  31.634276   \n",
      "3    6.144362    6.364194    7.155549    0.577076  0.178350  33.247770   \n",
      "4    6.157900    6.373376    6.998362    0.757801  0.174282  50.763965   \n",
      "\n",
      "     stoch_d  \n",
      "0  49.674762  \n",
      "1  45.120817  \n",
      "2  40.581838  \n",
      "3  34.294911  \n",
      "4  38.548670  \n",
      "        Date       Open       High        Low      Close  Adj Close  \\\n",
      "0 2020-01-29  29.000000  29.080000  28.670000  28.850000   9.981386   \n",
      "1 2020-01-30  28.280001  29.040001  28.180000  28.940001  10.012523   \n",
      "2 2020-01-31  28.629999  28.840000  28.309999  28.450001   9.842996   \n",
      "3 2020-02-03  28.520000  28.730000  28.160000  28.180000   9.749581   \n",
      "4 2020-02-04  28.650000  29.040001  28.559999  28.629999   9.905271   \n",
      "\n",
      "       Volume  SMA_10     EMA_10     RSI_10      MACD  MACD_Histogram  \\\n",
      "0  42297500.0  29.291  29.236263  37.600867 -0.471141       -0.126467   \n",
      "1  44266800.0  29.233  29.182397  39.395227 -0.466857       -0.097746   \n",
      "2  55446700.0  29.093  29.049234  33.557649 -0.497268       -0.102526   \n",
      "3  39452800.0  28.911  28.891192  30.766439 -0.536966       -0.113779   \n",
      "4  57658400.0  28.812  28.843702  40.007140 -0.526052       -0.082292   \n",
      "\n",
      "   BBL_20_2.0  BBM_20_2.0  BBU_20_2.0  BBB_20_2.0  BBP_20_2.0   ATRr_14  \\\n",
      "0   28.402096     29.8305   31.258904    9.576805    0.156785  0.657606   \n",
      "1   28.322375     29.7425   31.162625    9.549465    0.217455  0.676312   \n",
      "2   28.155640     29.6425   31.129361   10.031951    0.098987  0.672119   \n",
      "3   27.995495     29.5110   31.026505   10.270780    0.060872  0.663049   \n",
      "4   27.948019     29.4080   30.867981    9.929139    0.233558  0.680244   \n",
      "\n",
      "     stoch_k    stoch_d  \n",
      "0  30.839083  26.644553  \n",
      "1  42.306278  32.517223  \n",
      "2  39.537936  37.561099  \n",
      "3  32.334063  38.059426  \n",
      "4  30.164604  34.012201  \n",
      "        Date       Open       High        Low      Close  Adj Close  \\\n",
      "0 2020-01-29  31.980000  32.080002  31.700001  31.799999  20.701065   \n",
      "1 2020-01-30  31.450001  31.680000  30.850000  31.250000  20.343027   \n",
      "2 2020-01-31  31.309999  31.379999  30.850000  31.129999  20.264910   \n",
      "3 2020-02-03  31.100000  31.620001  31.059999  31.240000  20.336519   \n",
      "4 2020-02-04  31.500000  31.750000  31.190001  31.219999  20.323503   \n",
      "\n",
      "      Volume  SMA_10     EMA_10     RSI_10      MACD  MACD_Histogram  \\\n",
      "0   991300.0  31.724  31.642134  61.191478  0.306002        0.086246   \n",
      "1  1447700.0  31.780  31.570837  47.118924  0.257412        0.030124   \n",
      "2  1272100.0  31.761  31.490684  44.630668  0.206836       -0.016361   \n",
      "3  2246000.0  31.685  31.445105  47.456751  0.173629       -0.039655   \n",
      "4  1185200.0  31.614  31.404177  46.972400  0.144038       -0.055397   \n",
      "\n",
      "   BBL_20_2.0  BBM_20_2.0  BBU_20_2.0  BBB_20_2.0  BBP_20_2.0   ATRr_14  \\\n",
      "0   29.814114     31.1540   32.493886    8.601696    0.741065  0.530255   \n",
      "1   29.841932     31.1745   32.507068    8.549092    0.528329  0.569049   \n",
      "2   29.869261     31.1910   32.512740    8.475133    0.476924  0.565514   \n",
      "3   29.884876     31.2035   32.522124    8.451772    0.513840  0.565024   \n",
      "4   29.942326     31.2335   32.524674    8.267879    0.494772  0.564586   \n",
      "\n",
      "     stoch_k    stoch_d  \n",
      "0  76.424285  80.598074  \n",
      "1  66.803854  74.409397  \n",
      "2  52.531834  65.253324  \n",
      "3  40.920446  53.418711  \n",
      "4  38.065297  43.839192  \n",
      "        Date       Open       High        Low      Close  Adj Close  \\\n",
      "0 2020-01-30  42.161331  43.391998  41.200001  42.720669  42.720669   \n",
      "1 2020-01-31  42.666668  43.533333  42.167999  43.371334  43.371334   \n",
      "2 2020-02-03  44.912666  52.409332  44.901333  52.000000  52.000000   \n",
      "3 2020-02-04  58.863998  64.599335  55.591999  59.137333  59.137333   \n",
      "4 2020-02-05  54.883999  56.398666  46.940666  48.980000  48.980000   \n",
      "\n",
      "        Volume     SMA_10     EMA_10     RSI_10      MACD  MACD_Histogram  \\\n",
      "0  435085500.0  37.496600  37.734858  85.787607  2.639939        0.550914   \n",
      "1  235789500.0  38.410467  38.759672  86.677273  2.930907        0.673505   \n",
      "2  705975000.0  40.207133  41.167004  93.069622  3.813799        1.245117   \n",
      "3  914082000.0  42.472867  44.434337  95.190505  5.031421        1.970192   \n",
      "4  726357000.0  43.573800  45.260821  64.148610  5.117789        1.645248   \n",
      "\n",
      "   BBL_20_2.0  BBM_20_2.0  BBU_20_2.0  BBB_20_2.0  BBP_20_2.0   ATRr_14  \\\n",
      "0   27.812377   34.837566   41.862756   40.331117    1.061060  1.971172   \n",
      "1   28.210692   35.571933   42.933175   41.387919    1.029761  1.915179   \n",
      "2   26.906177   36.695233   46.484289   53.353283    1.281728  2.559948   \n",
      "3   24.751718   38.146966   51.542215   70.229691    1.283500  3.451703   \n",
      "4   25.237119   39.032433   52.827747   70.686417    0.860541  4.215197   \n",
      "\n",
      "     stoch_k    stoch_d  \n",
      "0  87.117057  81.736019  \n",
      "1  93.899932  87.137657  \n",
      "2  96.906199  92.641063  \n",
      "3  93.073154  94.626429  \n",
      "4  77.197608  89.058987  \n"
     ]
    }
   ],
   "source": [
    "caminho_pasta = 'Base_dados'\n",
    "lista_arquivos = [arquivo for arquivo in os.listdir(caminho_pasta) if os.path.isfile(os.path.join(caminho_pasta, arquivo))]\n",
    "\n",
    "for arq in lista_arquivos:\n",
    "    df = pd.read_csv(f'Base_dados/{arq}')\n",
    "    df = df.sort_values('Date')\n",
    "    # Verificar se a coluna 'Date' existe e definir como índice\n",
    "    if 'Date' in df.columns:\n",
    "        df = df.set_index('Date')\n",
    "    print(df.head())\n"
   ]
  },
  {
   "cell_type": "markdown",
   "metadata": {},
   "source": [
    "# 1 - Pré-Processamento dos Dados"
   ]
  },
  {
   "cell_type": "markdown",
   "metadata": {},
   "source": [
    "## 1.1 - Selecionar Colunas Relevantes"
   ]
  },
  {
   "cell_type": "code",
   "execution_count": 27,
   "metadata": {},
   "outputs": [
    {
     "name": "stdout",
     "output_type": "stream",
     "text": [
      "                  Open        High         Low       Close   Adj Close  \\\n",
      "Date                                                                     \n",
      "2020-01-30   42.161331   43.391998   41.200001   42.720669   42.720669   \n",
      "2020-01-31   42.666668   43.533333   42.167999   43.371334   43.371334   \n",
      "2020-02-03   44.912666   52.409332   44.901333   52.000000   52.000000   \n",
      "2020-02-04   58.863998   64.599335   55.591999   59.137333   59.137333   \n",
      "2020-02-05   54.883999   56.398666   46.940666   48.980000   48.980000   \n",
      "...                ...         ...         ...         ...         ...   \n",
      "2024-09-23  242.610001  250.000000  241.919998  250.000000  250.000000   \n",
      "2024-09-24  254.080002  257.190002  249.050003  254.270004  254.270004   \n",
      "2024-09-25  252.539993  257.049988  252.279999  257.019989  257.019989   \n",
      "2024-09-26  260.600006  261.750000  251.529999  254.220001  254.220001   \n",
      "2024-09-27  257.380005  260.700012  254.119995  260.459991  260.459991   \n",
      "\n",
      "                 Volume      SMA_10      EMA_10     RSI_10       MACD  \\\n",
      "Date                                                                    \n",
      "2020-01-30  435085500.0   37.496600   37.734858  85.787607   2.639939   \n",
      "2020-01-31  235789500.0   38.410467   38.759672  86.677273   2.930907   \n",
      "2020-02-03  705975000.0   40.207133   41.167004  93.069622   3.813799   \n",
      "2020-02-04  914082000.0   42.472867   44.434337  95.190505   5.031421   \n",
      "2020-02-05  726357000.0   43.573800   45.260821  64.148610   5.117789   \n",
      "...                 ...         ...         ...        ...        ...   \n",
      "2024-09-23   86927200.0  232.841998  233.745343  68.651310   6.748466   \n",
      "2024-09-24   88491000.0  235.651999  237.477099  70.751776   8.022445   \n",
      "2024-09-25   65034300.0  238.540997  241.030352  72.089962   9.148525   \n",
      "2024-09-26   67142200.0  240.981998  243.428470  68.542171   9.703163   \n",
      "2024-09-27   70729000.0  243.998997  246.525110  71.959272  10.524909   \n",
      "\n",
      "            MACD_Histogram  BBL_20_2.0  BBM_20_2.0  BBU_20_2.0  BBB_20_2.0  \\\n",
      "Date                                                                         \n",
      "2020-01-30        0.550914   27.812377   34.837566   41.862756   40.331117   \n",
      "2020-01-31        0.673505   28.210692   35.571933   42.933175   41.387919   \n",
      "2020-02-03        1.245117   26.906177   36.695233   46.484289   53.353283   \n",
      "2020-02-04        1.970192   24.751718   38.146966   51.542215   70.229691   \n",
      "2020-02-05        1.645248   25.237119   39.032433   52.827747   70.686417   \n",
      "...                    ...         ...         ...         ...         ...   \n",
      "2024-09-23        2.715400  198.934812  223.208000  247.481188   21.749389   \n",
      "2024-09-24        3.191503  197.960706  225.261000  252.561294   24.238811   \n",
      "2024-09-25        3.454066  198.110885  227.651499  257.192114   25.952489   \n",
      "2024-09-26        3.206964  200.168538  230.074999  259.981461   25.997141   \n",
      "2024-09-27        3.222967  202.182514  232.783999  263.385483   26.291742   \n",
      "\n",
      "            BBP_20_2.0    ATRr_14    stoch_k    stoch_d  \n",
      "Date                                                     \n",
      "2020-01-30    1.061060   1.971172  87.117057  81.736019  \n",
      "2020-01-31    1.029761   1.915179  93.899932  87.137657  \n",
      "2020-02-03    1.281728   2.559948  96.906199  92.641063  \n",
      "2020-02-04    1.283500   3.451703  93.073154  94.626429  \n",
      "2020-02-05    0.860541   4.215197  77.197608  89.058987  \n",
      "...                ...        ...        ...        ...  \n",
      "2024-09-23    1.051885  10.687454  93.942615  87.079016  \n",
      "2024-09-24    1.031295  10.505493  92.144166  90.171735  \n",
      "2024-09-25    0.997087  10.095814  97.793480  94.626754  \n",
      "2024-09-26    0.903675  10.104685  92.573015  94.170220  \n",
      "2024-09-27    0.952200   9.852923  93.701507  94.689334  \n",
      "\n",
      "[1174 rows x 19 columns]\n"
     ]
    }
   ],
   "source": [
    "#hist_TSLA\n",
    "data = df['Close'].values"
   ]
  },
  {
   "cell_type": "markdown",
   "metadata": {},
   "source": [
    "## 1.2 - Normalização dos Dados"
   ]
  },
  {
   "cell_type": "code",
   "execution_count": 37,
   "metadata": {},
   "outputs": [],
   "source": [
    "scaler = MinMaxScaler(feature_range=(0, 1))\n",
    "scaled_data = scaler.fit_transform(data.reshape(-1, 1))"
   ]
  },
  {
   "cell_type": "markdown",
   "metadata": {},
   "source": [
    "# 2 - Criação de Sequências para Treinamento"
   ]
  },
  {
   "cell_type": "code",
   "execution_count": 38,
   "metadata": {},
   "outputs": [],
   "source": [
    "# Defina o tamanho da janela de tempo (por exemplo, 60 dias):\n",
    "window_size = 60\n",
    "\n",
    "# Criando sequências de dados\n",
    "X = []\n",
    "y = []\n",
    "\n",
    "for i in range(window_size, len(scaled_data)):\n",
    "    X.append(scaled_data[i-window_size:i, 0])\n",
    "    y.append(scaled_data[i, 0])\n",
    "\n",
    "X, y = np.array(X), np.array(y)"
   ]
  },
  {
   "cell_type": "markdown",
   "metadata": {},
   "source": [
    "# 3 - Redimensionamento dos Dados"
   ]
  },
  {
   "cell_type": "code",
   "execution_count": 16,
   "metadata": {},
   "outputs": [],
   "source": [
    "# Redimensionando X para 3 dimensões (necessário para Conv1D)\n",
    "X = np.expand_dims(X, axis=2)"
   ]
  },
  {
   "cell_type": "markdown",
   "metadata": {},
   "source": [
    "# 4 - Divisão dos Dados em Treino e Teste"
   ]
  },
  {
   "cell_type": "markdown",
   "metadata": {},
   "source": [
    "## 4.1 Dividindo os Dados"
   ]
  },
  {
   "cell_type": "code",
   "execution_count": 39,
   "metadata": {},
   "outputs": [],
   "source": [
    "split = int(0.8 * len(X))\n",
    "X_train, X_test = X[:split], X[split:]\n",
    "y_train, y_test = y[:split], y[split:]"
   ]
  },
  {
   "cell_type": "markdown",
   "metadata": {},
   "source": [
    "# 5 - Construção do Modelo CNN"
   ]
  },
  {
   "cell_type": "code",
   "execution_count": 18,
   "metadata": {},
   "outputs": [],
   "source": [
    "model = Sequential()"
   ]
  },
  {
   "cell_type": "markdown",
   "metadata": {},
   "source": [
    "## 5.1 - Adicionando Camadas ao Modelo"
   ]
  },
  {
   "cell_type": "code",
   "execution_count": 19,
   "metadata": {},
   "outputs": [],
   "source": [
    "model.add(Conv1D(filters=64, kernel_size=3, activation='relu', input_shape=(X_train.shape[1], 1)))\n",
    "model.add(MaxPooling1D(pool_size=2))\n",
    "model.add(Flatten())\n",
    "model.add(Dense(50, activation='relu'))\n",
    "model.add(Dense(1))"
   ]
  },
  {
   "cell_type": "markdown",
   "metadata": {},
   "source": [
    "## 5.2 - Compilando Modelo"
   ]
  },
  {
   "cell_type": "code",
   "execution_count": 40,
   "metadata": {},
   "outputs": [],
   "source": [
    "model.compile(optimizer='adam', loss='mean_squared_error')"
   ]
  },
  {
   "cell_type": "markdown",
   "metadata": {},
   "source": [
    "# 6 - Treinamento do Modelo"
   ]
  },
  {
   "cell_type": "code",
   "execution_count": 21,
   "metadata": {},
   "outputs": [
    {
     "name": "stdout",
     "output_type": "stream",
     "text": [
      "Epoch 1/50\n",
      "28/28 [==============================] - 1s 9ms/step - loss: 0.0250 - val_loss: 0.0041\n",
      "Epoch 2/50\n",
      "28/28 [==============================] - 0s 5ms/step - loss: 0.0060 - val_loss: 0.0044\n",
      "Epoch 3/50\n",
      "28/28 [==============================] - 0s 5ms/step - loss: 0.0036 - val_loss: 0.0019\n",
      "Epoch 4/50\n",
      "28/28 [==============================] - 0s 5ms/step - loss: 0.0027 - val_loss: 0.0016\n",
      "Epoch 5/50\n",
      "28/28 [==============================] - 0s 4ms/step - loss: 0.0023 - val_loss: 0.0014\n",
      "Epoch 6/50\n",
      "28/28 [==============================] - 0s 4ms/step - loss: 0.0020 - val_loss: 0.0012\n",
      "Epoch 7/50\n",
      "28/28 [==============================] - 0s 4ms/step - loss: 0.0018 - val_loss: 0.0011\n",
      "Epoch 8/50\n",
      "28/28 [==============================] - 0s 4ms/step - loss: 0.0017 - val_loss: 0.0012\n",
      "Epoch 9/50\n",
      "28/28 [==============================] - 0s 4ms/step - loss: 0.0016 - val_loss: 0.0014\n",
      "Epoch 10/50\n",
      "28/28 [==============================] - 0s 5ms/step - loss: 0.0019 - val_loss: 8.7451e-04\n",
      "Epoch 11/50\n",
      "28/28 [==============================] - 0s 4ms/step - loss: 0.0015 - val_loss: 7.6978e-04\n",
      "Epoch 12/50\n",
      "28/28 [==============================] - 0s 4ms/step - loss: 0.0015 - val_loss: 7.4221e-04\n",
      "Epoch 13/50\n",
      "28/28 [==============================] - 0s 4ms/step - loss: 0.0012 - val_loss: 8.4912e-04\n",
      "Epoch 14/50\n",
      "28/28 [==============================] - 0s 4ms/step - loss: 0.0014 - val_loss: 9.6299e-04\n",
      "Epoch 15/50\n",
      "28/28 [==============================] - 0s 6ms/step - loss: 0.0012 - val_loss: 9.7652e-04\n",
      "Epoch 16/50\n",
      "28/28 [==============================] - 0s 4ms/step - loss: 0.0012 - val_loss: 6.3350e-04\n",
      "Epoch 17/50\n",
      "28/28 [==============================] - 0s 4ms/step - loss: 0.0013 - val_loss: 0.0018\n",
      "Epoch 18/50\n",
      "28/28 [==============================] - 0s 4ms/step - loss: 0.0016 - val_loss: 8.1340e-04\n",
      "Epoch 19/50\n",
      "28/28 [==============================] - 0s 4ms/step - loss: 0.0012 - val_loss: 0.0012\n",
      "Epoch 20/50\n",
      "28/28 [==============================] - 0s 5ms/step - loss: 0.0012 - val_loss: 5.5237e-04\n",
      "Epoch 21/50\n",
      "28/28 [==============================] - 0s 4ms/step - loss: 0.0010 - val_loss: 5.5055e-04\n",
      "Epoch 22/50\n",
      "28/28 [==============================] - 0s 4ms/step - loss: 9.7314e-04 - val_loss: 5.4387e-04\n",
      "Epoch 23/50\n",
      "28/28 [==============================] - 0s 4ms/step - loss: 9.3570e-04 - val_loss: 8.2031e-04\n",
      "Epoch 24/50\n",
      "28/28 [==============================] - 0s 4ms/step - loss: 0.0010 - val_loss: 5.6736e-04\n",
      "Epoch 25/50\n",
      "28/28 [==============================] - 0s 4ms/step - loss: 0.0011 - val_loss: 0.0019\n",
      "Epoch 26/50\n",
      "28/28 [==============================] - 0s 5ms/step - loss: 0.0011 - val_loss: 5.4859e-04\n",
      "Epoch 27/50\n",
      "28/28 [==============================] - 0s 4ms/step - loss: 0.0010 - val_loss: 4.8564e-04\n",
      "Epoch 28/50\n",
      "28/28 [==============================] - 0s 5ms/step - loss: 8.3036e-04 - val_loss: 5.0677e-04\n",
      "Epoch 29/50\n",
      "28/28 [==============================] - 0s 5ms/step - loss: 9.1927e-04 - val_loss: 9.3830e-04\n",
      "Epoch 30/50\n",
      "28/28 [==============================] - 0s 4ms/step - loss: 9.6535e-04 - val_loss: 4.6060e-04\n",
      "Epoch 31/50\n",
      "28/28 [==============================] - 0s 4ms/step - loss: 7.3543e-04 - val_loss: 5.5407e-04\n",
      "Epoch 32/50\n",
      "28/28 [==============================] - 0s 4ms/step - loss: 9.2142e-04 - val_loss: 4.8423e-04\n",
      "Epoch 33/50\n",
      "28/28 [==============================] - 0s 4ms/step - loss: 6.9845e-04 - val_loss: 6.6430e-04\n",
      "Epoch 34/50\n",
      "28/28 [==============================] - 0s 4ms/step - loss: 9.3468e-04 - val_loss: 5.3633e-04\n",
      "Epoch 35/50\n",
      "28/28 [==============================] - 0s 4ms/step - loss: 9.9229e-04 - val_loss: 4.5811e-04\n",
      "Epoch 36/50\n",
      "28/28 [==============================] - 0s 6ms/step - loss: 7.8316e-04 - val_loss: 8.3033e-04\n",
      "Epoch 37/50\n",
      "28/28 [==============================] - 0s 4ms/step - loss: 9.6414e-04 - val_loss: 4.2740e-04\n",
      "Epoch 38/50\n",
      "28/28 [==============================] - 0s 4ms/step - loss: 7.4586e-04 - val_loss: 4.3898e-04\n",
      "Epoch 39/50\n",
      "28/28 [==============================] - 0s 4ms/step - loss: 7.3846e-04 - val_loss: 7.2866e-04\n",
      "Epoch 40/50\n",
      "28/28 [==============================] - 0s 4ms/step - loss: 8.9798e-04 - val_loss: 4.2457e-04\n",
      "Epoch 41/50\n",
      "28/28 [==============================] - 0s 4ms/step - loss: 8.1592e-04 - val_loss: 4.2192e-04\n",
      "Epoch 42/50\n",
      "28/28 [==============================] - 0s 5ms/step - loss: 6.7824e-04 - val_loss: 4.8980e-04\n",
      "Epoch 43/50\n",
      "28/28 [==============================] - 0s 4ms/step - loss: 6.3065e-04 - val_loss: 4.3320e-04\n",
      "Epoch 44/50\n",
      "28/28 [==============================] - 0s 5ms/step - loss: 6.6974e-04 - val_loss: 5.0256e-04\n",
      "Epoch 45/50\n",
      "28/28 [==============================] - 0s 4ms/step - loss: 7.0141e-04 - val_loss: 4.4352e-04\n",
      "Epoch 46/50\n",
      "28/28 [==============================] - 0s 4ms/step - loss: 7.3405e-04 - val_loss: 4.3385e-04\n",
      "Epoch 47/50\n",
      "28/28 [==============================] - 0s 4ms/step - loss: 6.5837e-04 - val_loss: 4.5132e-04\n",
      "Epoch 48/50\n",
      "28/28 [==============================] - 0s 5ms/step - loss: 7.5353e-04 - val_loss: 6.1765e-04\n",
      "Epoch 49/50\n",
      "28/28 [==============================] - 0s 4ms/step - loss: 6.3187e-04 - val_loss: 4.3270e-04\n",
      "Epoch 50/50\n",
      "28/28 [==============================] - 0s 5ms/step - loss: 6.6151e-04 - val_loss: 4.8147e-04\n"
     ]
    }
   ],
   "source": [
    "history = model.fit(X_train, y_train, epochs=50, batch_size=32, validation_data=(X_test, y_test))"
   ]
  },
  {
   "cell_type": "markdown",
   "metadata": {},
   "source": [
    "# 7 - Avaliação do Modelo"
   ]
  },
  {
   "cell_type": "code",
   "execution_count": 22,
   "metadata": {},
   "outputs": [
    {
     "name": "stdout",
     "output_type": "stream",
     "text": [
      "7/7 [==============================] - 0s 2ms/step - loss: 4.8147e-04\n",
      "Perda no teste: 0.0004814747371710837\n"
     ]
    }
   ],
   "source": [
    "loss = model.evaluate(X_test, y_test)\n",
    "print(f'Perda no teste: {loss}')"
   ]
  },
  {
   "cell_type": "markdown",
   "metadata": {},
   "source": [
    "# 8 - Realização de Previsões"
   ]
  },
  {
   "cell_type": "code",
   "execution_count": 24,
   "metadata": {},
   "outputs": [
    {
     "name": "stdout",
     "output_type": "stream",
     "text": [
      "7/7 [==============================] - 0s 2ms/step\n"
     ]
    }
   ],
   "source": [
    "predictions = model.predict(X_test)\n",
    "\n",
    "# Desnormalizar previsões\n",
    "predictions = scaler.inverse_transform(predictions)\n",
    "y_test_actual = scaler.inverse_transform(y_test.reshape(-1, 1))"
   ]
  },
  {
   "cell_type": "markdown",
   "metadata": {},
   "source": [
    "# 9 - Visualização dos Resultados"
   ]
  },
  {
   "cell_type": "code",
   "execution_count": 25,
   "metadata": {},
   "outputs": [
    {
     "data": {
      "image/png": "[encoded data removed]",
      "text/plain": [
       "<Figure size 1400x500 with 1 Axes>"
      ]
     },
     "metadata": {},
     "output_type": "display_data"
    }
   ],
   "source": [
    "plt.figure(figsize=(14,5))\n",
    "plt.plot(y_test_actual, color='blue', label='Preço Real')\n",
    "plt.plot(predictions, color='red', label='Preço Previsto')\n",
    "plt.title('Previsão do Preço das Ações')\n",
    "plt.xlabel('Tempo')\n",
    "plt.ylabel('Preço das Ações')\n",
    "plt.legend()\n",
    "plt.show()"
   ]
  },
  {
   "cell_type": "markdown",
   "metadata": {},
   "source": [
    "# 10 - Cálculo de Métricas de Desempenho"
   ]
  },
  {
   "cell_type": "markdown",
   "metadata": {},
   "source": [
    "## 10.1 - Calcule MAE e RMSE\n",
    "MAE (Erro Médio Absoluto)\n",
    "Definição:\n",
    "- O MAE calcula a média das diferenças absolutas entre as previsões e os valores reais. Ele indica o quanto, em média, as previsões estão distantes dos valores observados.\n",
    "\n",
    "Interpretação:\n",
    "- Valores menores de MAE indicam que o modelo tem melhor desempenho, com previsões mais próximas dos valores reais.\n",
    "- O MAE é medido nas mesmas unidades dos dados originais (por exemplo, se os preços estão em reais, o MAE também estará em reais).\n",
    "- É uma métrica intuitiva, fácil de interpretar e não penaliza excessivamente grandes erros individuais.\n",
    "\n",
    "RMSE (Raiz do Erro Quadrático Médio)\n",
    "Definição:\n",
    "- O RMSE calcula a raiz quadrada da média dos quadrados das diferenças entre as previsões e os valores reais. Ele dá mais peso a erros maiores devido ao uso do quadrado das diferenças.\n",
    "\n",
    "Interpretação:\n",
    "- Valores menores de RMSE também indicam melhor desempenho do modelo.\n",
    "- O RMSE é sensível a grandes erros (outliers) devido ao quadrado das diferenças.\n",
    "- Como o RMSE também está nas mesmas unidades dos dados originais, ele facilita a interpretação prática dos resultados."
   ]
  },
  {
   "cell_type": "code",
   "execution_count": 26,
   "metadata": {},
   "outputs": [
    {
     "name": "stdout",
     "output_type": "stream",
     "text": [
      "MAE: 6.518820245169736\n",
      "RMSE: 8.467375254627237\n"
     ]
    }
   ],
   "source": [
    "mae = mean_absolute_error(y_test_actual, predictions)\n",
    "rmse = np.sqrt(mean_squared_error(y_test_actual, predictions))\n",
    "print(f'MAE: {mae}')\n",
    "print(f'RMSE: {rmse}')"
   ]
  },
  {
   "cell_type": "markdown",
   "metadata": {},
   "source": [
    "14. Otimização do Modelo\n",
    "\n",
    "Ajuste de hiperparâmetros:\n",
    "- Tente alterar o número de épocas, tamanho do lote, número de filtros, tamanho do kernel, etc.\n",
    "- Adicionar mais camadas ou regularização:\n",
    "- Considere adicionar camadas Dropout para evitar overfitting.\n",
    "15. Documentação e Análise\n",
    "\n",
    "Documente cada passo:\n",
    "- Explique as escolhas feitas e os resultados obtidos.\n",
    "\n",
    "Análise crítica:\n",
    "- Discuta as limitações do modelo e possíveis melhorias.\n",
    "\n",
    "Dicas Adicionais\n",
    "- Validação Cruzada: Considere usar validação cruzada para avaliar melhor o desempenho do modelo.\n",
    "- Comparação com Outros Modelos: Compare a CNN com outros modelos, como LSTM ou modelos ARIMA.\n",
    "- Atualização dos Dados: Certifique-se de que os dados estejam atualizados e reflitam o mercado atual.\n",
    "- Considerações Éticas: Esteja ciente dos riscos associados à previsão de mercados financeiros."
   ]
  },
  {
   "cell_type": "code",
   "execution_count": null,
   "metadata": {},
   "outputs": [],
   "source": []
  }
 ],
 "metadata": {
  "kernelspec": {
   "display_name": "base",
   "language": "python",
   "name": "python3"
  },
  "language_info": {
   "codemirror_mode": {
    "name": "ipython",
    "version": 3
   },
   "file_extension": ".py",
   "mimetype": "text/x-python",
   "name": "python",
   "nbconvert_exporter": "python",
   "pygments_lexer": "ipython3",
   "version": "3.11.9"
  }
 },
 "nbformat": 4,
 "nbformat_minor": 2
}
