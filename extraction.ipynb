{
 "cells": [
  {
   "attachments": {},
   "cell_type": "markdown",
   "metadata": {},
   "source": [
    "# 1. Importando bibliotecas"
   ]
  },
  {
   "cell_type": "code",
   "execution_count": 7,
   "metadata": {},
   "outputs": [],
   "source": [
    "#!pip install pandas_ta\n",
    "#!pip install yfinance\n",
    "#!pip install matplotlib\n",
    "#!pip install pandas_ta\n",
    "#!pip freeze > requirements.txt\n",
    "#!pip install -r requirements.txt"
   ]
  },
  {
   "cell_type": "code",
   "execution_count": 8,
   "execution_count": 1,
   "metadata": {},
   "outputs": [],
   "source": [
    "from funcoes import *\n",
    "import matplotlib.pyplot as plt\n",
    "import pandas_ta as ta\n",
    "import yfinance as yf\n",
    "import pandas as pd\n",
    "import time\n",
    "from decimal import Decimal"
   ]
  },
  {
   "attachments": {},
   "cell_type": "markdown",
   "metadata": {},
   "source": [
    "# 2. Obtendo os dados historicos das ações"
   ]
  },
  {
   "attachments": {},
   "cell_type": "markdown",
   "metadata": {},
   "source": [
    "## 2.1 Parâmetros"
   ]
  },
  {
   "cell_type": "code",
   "execution_count": 9,
   "execution_count": 18,
   "metadata": {},
   "outputs": [],
   "source": [
    "lista_acoes = [    \n",
    "    'PETR4.SA',    # Petrobras\n",
    "    'TAEE11.SA',   # Taesa    \n",
    "    'NVDA',        # Nvidia\n",
    "    'BBAS3.SA',    # Bradesco\n",
    "    'NFLX',        # Netflix     \n",
    "    'EA',          # EA\n",
    "    'TSLA']        # Tesla\n",
    "\n",
    "data_inicio = '2020-01-01' # data de inicio do historico que voce deseja obter\n",
    "data_fim = '2023-12-31'    # data final do perido para o historico\n",
    "# FORMATO-> \"AAAA-MM-DD\" "
   ]
  },
  {
   "cell_type": "code",
   "execution_count": 10,
   "execution_count": 3,
   "metadata": {},
   "outputs": [
    {
     "name": "stderr",
     "output_type": "stream",
     "text": [
      "[*********************100%***********************]  1 of 1 completed\n",
      "[*********************100%***********************]  1 of 1 completed\n",
      "[*********************100%***********************]  1 of 1 completed\n",
      "[*********************100%***********************]  1 of 1 completed\n",
      "[*********************100%***********************]  1 of 1 completed\n",
      "[*********************100%***********************]  1 of 1 completed\n",
      "[*********************100%***********************]  1 of 1 completed"
     ]
    },
    {
     "name": "stdout",
     "output_type": "stream",
     "text": [
      "CPU times: total: 594 ms\n",
      "Wall time: 6.39 s\n"
      "CPU times: total: 359 ms\n",
      "Wall time: 4.7 s\n"
     ]
    },
    {
     "name": "stderr",
     "output_type": "stream",
     "text": [
      "\n"
     ]
    },
    {
     "data": {
      "text/plain": [
       "'\\n    Informacao sobre os dados historicos gerados:\\n        É gerado um DataFrame com as seguintes variáveis / colunas para cada acao ---> \\n            \"Date\"     : representa a data do registro no formato \"AAAA-MM-DD\"\\n            \"Open\"     : Preco de abertura do dia\\n            \"High\"     : Preco mais alto do dia\\n            \"Low\"      : Preco mais baixo do dia\\n            \"Close\"    : Preco de fechamendo do dia\\n            \"Adj Close\": Preco de fechamento ajustado. Esse valor serve para ser usado em dividendos, splits de acoes, etc... (Eventos corporativos)\\n            \"Volume\"   : Representa o numero total de acoes negociadas durante o dia\\n'"
      ]
     },
     "execution_count": 3,
     "metadata": {},
     "output_type": "execute_result"
    }
   ],
   "source": [
    "%%time\n",
    "\n",
    "hist_data(data_inicio, data_fim, lista_acoes) # FUNCAO PARA OBTERMOS OS DADOS HISTORICOS DAS ACOES INDICADAS NA LISTA\n",
    "\n",
    "\"\"\"\n",
    "    Informacao sobre os dados historicos gerados:\n",
    "        É gerado um DataFrame com as seguintes variáveis / colunas para cada acao ---> \n",
    "            \"Date\"     : representa a data do registro no formato \"AAAA-MM-DD\"\n",
    "            \"Open\"     : Preco de abertura do dia\n",
    "            \"High\"     : Preco mais alto do dia\n",
    "            \"Low\"      : Preco mais baixo do dia\n",
    "            \"Close\"    : Preco de fechamendo do dia\n",
    "            \"Adj Close\": Preco de fechamento ajustado. Esse valor serve para ser usado em dividendos, splits de acoes, etc... (Eventos corporativos)\n",
    "            \"Volume\"   : Representa o numero total de acoes negociadas durante o dia\n",
    "\"\"\"\n"
   ]
  },
  {
   "attachments": {},
   "cell_type": "markdown",
   "metadata": {},
   "source": [
    "# 3. Indicadores técnicos"
   ]
  },
  {
   "attachments": {},
   "cell_type": "markdown",
   "metadata": {},
   "source": [
    "### 3.1 SMA"
   ]
  },
  {
   "cell_type": "code",
   "execution_count": 4,
   "metadata": {},
   "outputs": [
    {
     "name": "stdout",
     "output_type": "stream",
     "text": [
      "CPU times: total: 78.1 ms\n",
      "Wall time: 118 ms\n"
     ]
    }
   ],
   "source": [
    "%%time\n",
    "\n",
    "MM_sma(lista_acoes) # FUNCAO PARA OBTER O INDICADOR 'SMA'(SIMPLE MOVING AVERAGE ou MEDIA MOVEL SIMPLES)"
   ]
  },
  {
   "attachments": {},
   "cell_type": "markdown",
   "metadata": {},
   "source": [
    "### 3.2 EMA"
   ]
  },
  {
   "cell_type": "code",
   "execution_count": 5,
   "metadata": {},
   "outputs": [
    {
     "name": "stdout",
     "output_type": "stream",
     "text": [
      "CPU times: total: 93.8 ms\n",
      "Wall time: 130 ms\n"
     ]
    }
   ],
   "source": [
    "%%time\n",
    "\n",
    "MM_ema(lista_acoes) # FUNCAO PARA OBTER O INDICADOR 'EMA'(EXPONENTIAL MOVING AVERAGE ou MEDIA MOVEL EXPONENCIAL)"
   ]
  },
  {
   "attachments": {},
   "cell_type": "markdown",
   "metadata": {},
   "source": [
    "### 3.3 RSI"
   ]
  },
  {
   "cell_type": "code",
   "execution_count": 6,
   "metadata": {},
   "outputs": [
    {
     "name": "stdout",
     "output_type": "stream",
     "text": [
      "CPU times: total: 109 ms\n",
      "Wall time: 145 ms\n"
     ]
    }
   ],
   "source": [
    "%%time\n",
    "\n",
    "MM_rsi(lista_acoes)"
   ]
  },
  {
   "attachments": {},
   "cell_type": "markdown",
   "metadata": {},
   "source": [
    "### 3.4 MACD"
   ]
  },
  {
   "cell_type": "code",
   "execution_count": 7,
   "metadata": {},
   "outputs": [
    {
     "name": "stdout",
     "output_type": "stream",
     "text": [
      "CPU times: total: 141 ms\n",
      "Wall time: 210 ms\n"
     ]
    }
   ],
   "source": [
    "%%time\n",
    "\n",
    "MM_macd(lista_acoes)"
   ]
  },
  {
   "attachments": {},
   "cell_type": "markdown",
   "metadata": {},
   "source": [
    "### 3.5 Bollinger Bands"
   ]
  },
  {
   "cell_type": "code",
   "execution_count": 8,
   "metadata": {},
   "outputs": [
    {
     "name": "stdout",
     "output_type": "stream",
     "text": [
      "CPU times: total: 125 ms\n",
      "Wall time: 225 ms\n"
     ]
    }
   ],
   "source": [
    "%%time\n",
    "\n",
    "MM_bb(lista_acoes) # FUNCAO PARA OBTER OS INDICADORES BB(Bollinger Band) dos ativos"
   ]
  },
  {
   "attachments": {},
   "cell_type": "markdown",
   "metadata": {},
   "source": [
    "### 3.6 ATR"
   ]
  },
  {
   "cell_type": "code",
   "execution_count": 9,
   "metadata": {},
   "outputs": [
    {
     "name": "stdout",
     "output_type": "stream",
     "text": [
      "CPU times: total: 203 ms\n",
      "Wall time: 232 ms\n"
     ]
    }
   ],
   "source": [
    "%%time\n",
    "\n",
    "MM_atr(lista_acoes) # FUNCAO PARA OBTER O INDICADOR \"ATR\" (AVERAGE TRUE RANGE)"
   ]
  },
  {
   "attachments": {},
   "cell_type": "markdown",
   "metadata": {},
   "source": [
    "### 3.7 Indicador Estocástico"
   ]
  },
  {
   "cell_type": "code",
   "execution_count": 10,
   "metadata": {},
   "outputs": [
    {
     "name": "stdout",
     "output_type": "stream",
     "text": [
      "CPU times: total: 188 ms\n",
      "Wall time: 247 ms\n"
     ]
    }
   ],
   "source": [
    "%%time\n",
    "\n",
    "MM_estc(lista_acoes)"
   ]
  },
  {
   "attachments": {},
   "cell_type": "markdown",
   "metadata": {},
   "source": [
    "# 4. Data Wrangling"
   ]
  },
  {
   "attachments": {},
   "cell_type": "markdown",
   "metadata": {},
   "source": [
    "### 4.1 Removendo colunas que não serão usadas"
   ]
  },
  {
   "cell_type": "code",
   "execution_count": 20,
   "metadata": {},
   "outputs": [
    {
     "name": "stdout",
     "output_type": "stream",
     "text": [
      "CPU times: total: 31.2 ms\n",
      "Wall time: 104 ms\n"
     ]
    }
   ],
   "source": [
    "%%time\n",
    "\n",
    "for acao in lista_acoes:\n",
    "    df = pd.read_csv(\"Base_dados/hist_\"+acao) # lendo as bases de cada acao\n",
    "\n",
    "    lista_colunas = ['Unnamed: 0.5','Unnamed: 0.4','Unnamed: 0.3','Unnamed: 0.2','Unnamed: 0.1','Unnamed: 0'] # colunas a serem removidas\n",
    "\n",
    "    df = df.drop(columns=lista_colunas) # removendo a cluna da iteracao\n",
    "    df = df.set_index('Date') # colocando a coluna \"Date\" como indice\n"
   ]
  },
  {
   "attachments": {},
   "cell_type": "markdown",
   "metadata": {},
   "source": [
    "### 4.2 Descobrir se há Outliers"
   ]
  },
  {
   "cell_type": "code",
   "execution_count": 19,
   "metadata": {},
   "outputs": [
    {
     "name": "stdout",
     "output_type": "stream",
     "text": [
      "Axes(0.125,0.11;0.775x0.77)\n"
     ]
    },
    {
     "data": {
      "image/png": "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",
      "text/plain": [
       "<Figure size 640x480 with 1 Axes>"
      ]
     },
     "metadata": {},
     "output_type": "display_data"
    }
   ],
   "source": [
    "#SMA_10, \n",
    "a = df.boxplot(column=[\"SMA_10\"])\n",
    "\n",
    "print(a)\n",
    "plt.show()  # Garante que o gráfico seja renderizado"
   ]
  },
  {
   "attachments": {},
   "cell_type": "markdown",
   "metadata": {},
   "source": [
    "### 4.3 Removendo linhas com valores NAN"
   ]
  },
  {
   "cell_type": "code",
   "execution_count": 20,
   "metadata": {},
   "outputs": [],
   "source": [
    "df.dropna(inplace=True)  # Remove linhas com valores ausentes"
   ]
  },
  {
   "attachments": {},
   "cell_type": "markdown",
   "metadata": {},
   "source": [
    "### 4.3 Convertendo os valores das Colunas"
   ]
  },
  {
   "cell_type": "code",
   "execution_count": 21,
   "metadata": {},
   "outputs": [],
   "source": [
    "#df['Date'] = pd.to_datetime(df['Date'], format='%Y-%m-%d')\n",
    "nome_colunas = ['Open', 'High', 'Low', 'Close', 'Adj Close', 'Volume', 'SMA_10', 'EMA_10', 'RSI_10', 'MACD', 'MACD_Histogram', 'BBL_20_2.0', 'BBM_20_2.0', 'BBU_20_2.0', 'BBB_20_2.0', 'BBP_20_2.0', 'ATRr_14', 'stoch_k', 'stoch_d']\n",
    "\n",
    "for col in nome_colunas:\n",
    "    df[col] = df[col].astype(str)  # Converte uma coluna em string\n",
    "\n",
    "for col in nome_colunas:\n",
    "    df[col] = df[col].apply(lambda x: Decimal(x))  # Converte uma coluna em decimal\n",
    "\n"
   ]
  },
  {
   "cell_type": "code",
   "execution_count": 22,
   "metadata": {},
   "outputs": [
    {
     "name": "stdout",
     "output_type": "stream",
     "text": [
      "<class 'pandas.core.frame.DataFrame'>\n",
      "Index: 987 entries, 2020-01-30 to 2023-12-29\n",
      "Data columns (total 19 columns):\n",
      " #   Column          Non-Null Count  Dtype \n",
      "---  ------          --------------  ----- \n",
      " 0   Open            987 non-null    object\n",
      " 1   High            987 non-null    object\n",
      " 2   Low             987 non-null    object\n",
      " 3   Close           987 non-null    object\n",
      " 4   Adj Close       987 non-null    object\n",
      " 5   Volume          987 non-null    object\n",
      " 6   SMA_10          987 non-null    object\n",
      " 7   EMA_10          987 non-null    object\n",
      " 8   RSI_10          987 non-null    object\n",
      " 9   MACD            987 non-null    object\n",
      " 10  MACD_Histogram  987 non-null    object\n",
      " 11  BBL_20_2.0      987 non-null    object\n",
      " 12  BBM_20_2.0      987 non-null    object\n",
      " 13  BBU_20_2.0      987 non-null    object\n",
      " 14  BBB_20_2.0      987 non-null    object\n",
      " 15  BBP_20_2.0      987 non-null    object\n",
      " 16  ATRr_14         987 non-null    object\n",
      " 17  stoch_k         987 non-null    object\n",
      " 18  stoch_d         987 non-null    object\n",
      "dtypes: object(19)\n",
      "memory usage: 154.2+ KB\n"
     ]
    }
   ],
   "source": [
    "df.info()"
   ]
  },
  {
   "cell_type": "code",
   "execution_count": null,
   "metadata": {},
   "outputs": [],
   "source": []
  },
  {
   "cell_type": "code",
   "execution_count": null,
   "metadata": {},
   "outputs": [],
   "source": []
  }
 ],
 "metadata": {
  "kernelspec": {
   "display_name": "Python 3",
   "language": "python",
   "name": "python3"
  },
  "language_info": {
   "codemirror_mode": {
    "name": "ipython",
    "version": 3
   },
   "file_extension": ".py",
   "mimetype": "text/x-python",
   "name": "python",
   "nbconvert_exporter": "python",
   "pygments_lexer": "ipython3",
   "version": "3.10.2"
  }
 },
 "nbformat": 4,
 "nbformat_minor": 2
}
