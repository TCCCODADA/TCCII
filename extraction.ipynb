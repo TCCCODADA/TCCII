{
 "cells": [
  {
   "cell_type": "markdown",
   "metadata": {},
   "source": [
    "# 1. Importando bibliotecas"
   ]
  },
  {
   "cell_type": "code",
   "execution_count": 11,
   "metadata": {},
   "outputs": [],
   "source": [
    "from funcoes import *\n",
    "import matplotlib.pyplot as plt\n",
    "import pandas_ta as ta\n",
    "import yfinance as yf\n",
    "import pandas as pd\n",
    "import time"
   ]
  },
  {
   "cell_type": "markdown",
   "metadata": {},
   "source": [
    "# 2. Obtendo os dados historicos das ações"
   ]
  },
  {
   "cell_type": "markdown",
   "metadata": {},
   "source": [
    "## 2.1 Parâmetros"
   ]
  },
  {
   "cell_type": "code",
   "execution_count": 12,
   "metadata": {},
   "outputs": [],
   "source": [
    "lista_acoes = [    \n",
    "    'PETR4.SA',    # Petrobras\n",
    "    'TAEE11.SA',   # Taesa    \n",
    "    'NVDA',        # Nvidia\n",
    "    'BBAS3.SA',    # Bradesco\n",
    "    'NFLX',        # Netflix     \n",
    "    'EA',          # EA\n",
    "    'TSLA']        # Tesla\n",
    "\n",
    "data_inicio = '2020-01-01' # data de inicio do historico que voce deseja obter\n",
    "data_fim = '2023-12-31'    # data final do perido para o historico\n",
    "# FORMATO-> \"AAAA-MM-DD\" "
   ]
  },
  {
   "cell_type": "code",
   "execution_count": 13,
   "metadata": {},
   "outputs": [
    {
     "name": "stderr",
     "output_type": "stream",
     "text": [
      "[*********************100%***********************]  1 of 1 completed\n",
      "[*********************100%***********************]  1 of 1 completed\n",
      "[*********************100%***********************]  1 of 1 completed\n",
      "[*********************100%***********************]  1 of 1 completed\n",
      "[*********************100%***********************]  1 of 1 completed\n",
      "[*********************100%***********************]  1 of 1 completed\n",
      "[*********************100%***********************]  1 of 1 completed"
     ]
    },
    {
     "name": "stdout",
     "output_type": "stream",
     "text": [
      "CPU times: total: 172 ms\n",
      "Wall time: 236 ms\n"
     ]
    },
    {
     "name": "stderr",
     "output_type": "stream",
     "text": [
      "\n"
     ]
    },
    {
     "data": {
      "text/plain": [
       "'\\n    Informacao sobre os dados historicos gerados:\\n        É gerado um DataFrame com as seguintes variáveis / colunas para cada acao ---> \\n            \"Date\"     : representa a data do registro no formato \"AAAA-MM-DD\"\\n            \"Open\"     : Preco de abertura do dia\\n            \"High\"     : Preco mais alto do dia\\n            \"Low\"      : Preco mais baixo do dia\\n            \"Close\"    : Preco de fechamendo do dia\\n            \"Adj Close\": Preco de fechamento ajustado. Esse valor serve para ser usado em dividendos, splits de acoes, etc... (Eventos corporativos)\\n            \"Volume\"   : Representa o numero total de acoes negociadas durante o dia\\n'"
      ]
     },
     "execution_count": 13,
     "metadata": {},
     "output_type": "execute_result"
    }
   ],
   "source": [
    "%%time\n",
    "\n",
    "hist_data(data_inicio, data_fim, lista_acoes) # FUNCAO PARA OBTERMOS OS DADOS HISTORICOS DAS ACOES INDICADAS NA LISTA\n",
    "\n",
    "\"\"\"\n",
    "    Informacao sobre os dados historicos gerados:\n",
    "        É gerado um DataFrame com as seguintes variáveis / colunas para cada acao ---> \n",
    "            \"Date\"     : representa a data do registro no formato \"AAAA-MM-DD\"\n",
    "            \"Open\"     : Preco de abertura do dia\n",
    "            \"High\"     : Preco mais alto do dia\n",
    "            \"Low\"      : Preco mais baixo do dia\n",
    "            \"Close\"    : Preco de fechamendo do dia\n",
    "            \"Adj Close\": Preco de fechamento ajustado. Esse valor serve para ser usado em dividendos, splits de acoes, etc... (Eventos corporativos)\n",
    "            \"Volume\"   : Representa o numero total de acoes negociadas durante o dia\n",
    "\"\"\"\n"
   ]
  },
  {
   "cell_type": "markdown",
   "metadata": {},
   "source": [
    "# 3. Indicadores técnicos"
   ]
  },
  {
   "cell_type": "markdown",
   "metadata": {},
   "source": [
    "### 3.1 SMA"
   ]
  },
  {
   "cell_type": "code",
   "execution_count": 14,
   "metadata": {},
   "outputs": [
    {
     "name": "stdout",
     "output_type": "stream",
     "text": [
      "CPU times: total: 109 ms\n",
      "Wall time: 130 ms\n"
     ]
    }
   ],
   "source": [
    "%%time\n",
    "\n",
    "MM_sma(lista_acoes) # FUNCAO PARA OBTER O INDICADOR 'SMA'(SIMPLE MOVING AVERAGE ou MEDIA MOVEL SIMPLES)"
   ]
  },
  {
   "cell_type": "markdown",
   "metadata": {},
   "source": [
    "### 3.2 EMA"
   ]
  },
  {
   "cell_type": "code",
   "execution_count": 15,
   "metadata": {},
   "outputs": [
    {
     "name": "stdout",
     "output_type": "stream",
     "text": [
      "CPU times: total: 78.1 ms\n",
      "Wall time: 174 ms\n"
     ]
    }
   ],
   "source": [
    "%%time\n",
    "\n",
    "MM_ema(lista_acoes) # FUNCAO PARA OBTER O INDICADOR 'EMA'(EXPONENTIAL MOVING AVERAGE ou MEDIA MOVEL EXPONENCIAL)"
   ]
  },
  {
   "cell_type": "markdown",
   "metadata": {},
   "source": [
    "### 3.3 RSI"
   ]
  },
  {
   "cell_type": "code",
   "execution_count": 16,
   "metadata": {},
   "outputs": [
    {
     "name": "stdout",
     "output_type": "stream",
     "text": [
      "CPU times: total: 109 ms\n",
      "Wall time: 142 ms\n"
     ]
    }
   ],
   "source": [
    "%%time\n",
    "\n",
    "MM_rsi(lista_acoes)"
   ]
  },
  {
   "cell_type": "markdown",
   "metadata": {},
   "source": [
    "### 3.4 MACD"
   ]
  },
  {
   "cell_type": "code",
   "execution_count": 17,
   "metadata": {},
   "outputs": [
    {
     "name": "stdout",
     "output_type": "stream",
     "text": [
      "CPU times: total: 188 ms\n",
      "Wall time: 223 ms\n"
     ]
    }
   ],
   "source": [
    "%%time\n",
    "\n",
    "MM_macd(lista_acoes)"
   ]
  },
  {
   "cell_type": "markdown",
   "metadata": {},
   "source": [
    "### 3.5 Bollinger Bands"
   ]
  },
  {
   "cell_type": "code",
   "execution_count": 18,
   "metadata": {},
   "outputs": [
    {
     "name": "stdout",
     "output_type": "stream",
     "text": [
      "CPU times: total: 156 ms\n",
      "Wall time: 232 ms\n"
     ]
    }
   ],
   "source": [
    "%%time\n",
    "\n",
    "MM_bb(lista_acoes) # FUNCAO PARA OBTER OS INDICADORES BB(Bollinger Band) dos ativos"
   ]
  },
  {
   "cell_type": "markdown",
   "metadata": {},
   "source": [
    "### 3.6 ATR"
   ]
  },
  {
   "cell_type": "code",
   "execution_count": 19,
   "metadata": {},
   "outputs": [
    {
     "name": "stdout",
     "output_type": "stream",
     "text": [
      "CPU times: total: 203 ms\n",
      "Wall time: 250 ms\n"
     ]
    }
   ],
   "source": [
    "%%time\n",
    "\n",
    "MM_atr(lista_acoes) # FUNCAO PARA OBTER O INDICADOR \"ATR\" (AVERAGE TRUE RANGE)"
   ]
  },
  {
   "cell_type": "markdown",
   "metadata": {},
   "source": [
    "### 3.7 Indicador Estocástico"
   ]
  },
  {
   "cell_type": "code",
   "execution_count": 20,
   "metadata": {},
   "outputs": [
    {
     "name": "stdout",
     "output_type": "stream",
     "text": [
      "CPU times: total: 188 ms\n",
      "Wall time: 267 ms\n"
     ]
    }
   ],
   "source": [
    "%%time\n",
    "\n",
    "MM_estc(lista_acoes)"
   ]
  },
  {
   "cell_type": "markdown",
   "metadata": {},
   "source": [
    "# 4. Data Wrangling"
   ]
  },
  {
   "cell_type": "markdown",
   "metadata": {},
   "source": [
    "### 4.1 Info"
   ]
  },
  {
   "cell_type": "markdown",
   "metadata": {},
   "source": [
    "### 4.1 Removendo colunas que não seram usadas"
   ]
  },
  {
   "cell_type": "code",
   "execution_count": 42,
   "metadata": {},
   "outputs": [
    {
     "name": "stdout",
     "output_type": "stream",
     "text": [
      "CPU times: total: 15.6 ms\n",
      "Wall time: 7 ms\n"
     ]
    },
    {
     "data": {
      "text/html": [
       "<div>\n",
       "<style scoped>\n",
       "    .dataframe tbody tr th:only-of-type {\n",
       "        vertical-align: middle;\n",
       "    }\n",
       "\n",
       "    .dataframe tbody tr th {\n",
       "        vertical-align: top;\n",
       "    }\n",
       "\n",
       "    .dataframe thead th {\n",
       "        text-align: right;\n",
       "    }\n",
       "</style>\n",
       "<table border=\"1\" class=\"dataframe\">\n",
       "  <thead>\n",
       "    <tr style=\"text-align: right;\">\n",
       "      <th></th>\n",
       "      <th>Open</th>\n",
       "      <th>High</th>\n",
       "      <th>Low</th>\n",
       "      <th>Close</th>\n",
       "      <th>Adj Close</th>\n",
       "      <th>Volume</th>\n",
       "      <th>SMA_10</th>\n",
       "      <th>EMA_10</th>\n",
       "      <th>RSI_10</th>\n",
       "      <th>MACD</th>\n",
       "      <th>MACD_Histogram</th>\n",
       "      <th>BBL_20_2.0</th>\n",
       "      <th>BBM_20_2.0</th>\n",
       "      <th>BBU_20_2.0</th>\n",
       "      <th>BBB_20_2.0</th>\n",
       "      <th>BBP_20_2.0</th>\n",
       "      <th>ATRr_14</th>\n",
       "      <th>stoch_k</th>\n",
       "      <th>stoch_d</th>\n",
       "    </tr>\n",
       "    <tr>\n",
       "      <th>Date</th>\n",
       "      <th></th>\n",
       "      <th></th>\n",
       "      <th></th>\n",
       "      <th></th>\n",
       "      <th></th>\n",
       "      <th></th>\n",
       "      <th></th>\n",
       "      <th></th>\n",
       "      <th></th>\n",
       "      <th></th>\n",
       "      <th></th>\n",
       "      <th></th>\n",
       "      <th></th>\n",
       "      <th></th>\n",
       "      <th></th>\n",
       "      <th></th>\n",
       "      <th></th>\n",
       "      <th></th>\n",
       "      <th></th>\n",
       "    </tr>\n",
       "  </thead>\n",
       "  <tbody>\n",
       "    <tr>\n",
       "      <th>2020-01-02</th>\n",
       "      <td>28.299999</td>\n",
       "      <td>28.713333</td>\n",
       "      <td>28.114000</td>\n",
       "      <td>28.684000</td>\n",
       "      <td>28.684000</td>\n",
       "      <td>142981500</td>\n",
       "      <td>NaN</td>\n",
       "      <td>NaN</td>\n",
       "      <td>NaN</td>\n",
       "      <td>0.000000</td>\n",
       "      <td>0.000000</td>\n",
       "      <td>NaN</td>\n",
       "      <td>NaN</td>\n",
       "      <td>NaN</td>\n",
       "      <td>NaN</td>\n",
       "      <td>NaN</td>\n",
       "      <td>NaN</td>\n",
       "      <td>NaN</td>\n",
       "      <td>NaN</td>\n",
       "    </tr>\n",
       "    <tr>\n",
       "      <th>2020-01-03</th>\n",
       "      <td>29.366667</td>\n",
       "      <td>30.266666</td>\n",
       "      <td>29.128000</td>\n",
       "      <td>29.534000</td>\n",
       "      <td>29.534000</td>\n",
       "      <td>266677500</td>\n",
       "      <td>NaN</td>\n",
       "      <td>NaN</td>\n",
       "      <td>NaN</td>\n",
       "      <td>0.067806</td>\n",
       "      <td>0.054245</td>\n",
       "      <td>NaN</td>\n",
       "      <td>NaN</td>\n",
       "      <td>NaN</td>\n",
       "      <td>NaN</td>\n",
       "      <td>NaN</td>\n",
       "      <td>NaN</td>\n",
       "      <td>NaN</td>\n",
       "      <td>NaN</td>\n",
       "    </tr>\n",
       "    <tr>\n",
       "      <th>2020-01-06</th>\n",
       "      <td>29.364668</td>\n",
       "      <td>30.104000</td>\n",
       "      <td>29.333332</td>\n",
       "      <td>30.102667</td>\n",
       "      <td>30.102667</td>\n",
       "      <td>151995000</td>\n",
       "      <td>NaN</td>\n",
       "      <td>NaN</td>\n",
       "      <td>NaN</td>\n",
       "      <td>0.165522</td>\n",
       "      <td>0.121568</td>\n",
       "      <td>NaN</td>\n",
       "      <td>NaN</td>\n",
       "      <td>NaN</td>\n",
       "      <td>NaN</td>\n",
       "      <td>NaN</td>\n",
       "      <td>NaN</td>\n",
       "      <td>NaN</td>\n",
       "      <td>NaN</td>\n",
       "    </tr>\n",
       "    <tr>\n",
       "      <th>2020-01-07</th>\n",
       "      <td>30.760000</td>\n",
       "      <td>31.441999</td>\n",
       "      <td>30.224001</td>\n",
       "      <td>31.270666</td>\n",
       "      <td>31.270666</td>\n",
       "      <td>268231500</td>\n",
       "      <td>NaN</td>\n",
       "      <td>NaN</td>\n",
       "      <td>NaN</td>\n",
       "      <td>0.333367</td>\n",
       "      <td>0.231531</td>\n",
       "      <td>NaN</td>\n",
       "      <td>NaN</td>\n",
       "      <td>NaN</td>\n",
       "      <td>NaN</td>\n",
       "      <td>NaN</td>\n",
       "      <td>NaN</td>\n",
       "      <td>NaN</td>\n",
       "      <td>NaN</td>\n",
       "    </tr>\n",
       "    <tr>\n",
       "      <th>2020-01-08</th>\n",
       "      <td>31.580000</td>\n",
       "      <td>33.232666</td>\n",
       "      <td>31.215334</td>\n",
       "      <td>32.809334</td>\n",
       "      <td>32.809334</td>\n",
       "      <td>467164500</td>\n",
       "      <td>NaN</td>\n",
       "      <td>NaN</td>\n",
       "      <td>NaN</td>\n",
       "      <td>0.583813</td>\n",
       "      <td>0.385582</td>\n",
       "      <td>NaN</td>\n",
       "      <td>NaN</td>\n",
       "      <td>NaN</td>\n",
       "      <td>NaN</td>\n",
       "      <td>NaN</td>\n",
       "      <td>NaN</td>\n",
       "      <td>NaN</td>\n",
       "      <td>NaN</td>\n",
       "    </tr>\n",
       "    <tr>\n",
       "      <th>...</th>\n",
       "      <td>...</td>\n",
       "      <td>...</td>\n",
       "      <td>...</td>\n",
       "      <td>...</td>\n",
       "      <td>...</td>\n",
       "      <td>...</td>\n",
       "      <td>...</td>\n",
       "      <td>...</td>\n",
       "      <td>...</td>\n",
       "      <td>...</td>\n",
       "      <td>...</td>\n",
       "      <td>...</td>\n",
       "      <td>...</td>\n",
       "      <td>...</td>\n",
       "      <td>...</td>\n",
       "      <td>...</td>\n",
       "      <td>...</td>\n",
       "      <td>...</td>\n",
       "      <td>...</td>\n",
       "    </tr>\n",
       "    <tr>\n",
       "      <th>2023-12-22</th>\n",
       "      <td>256.760010</td>\n",
       "      <td>258.220001</td>\n",
       "      <td>251.369995</td>\n",
       "      <td>252.539993</td>\n",
       "      <td>252.539993</td>\n",
       "      <td>93249800</td>\n",
       "      <td>248.406999</td>\n",
       "      <td>249.329040</td>\n",
       "      <td>58.780695</td>\n",
       "      <td>5.223831</td>\n",
       "      <td>0.802601</td>\n",
       "      <td>231.150622</td>\n",
       "      <td>244.503500</td>\n",
       "      <td>257.856377</td>\n",
       "      <td>10.922443</td>\n",
       "      <td>0.800927</td>\n",
       "      <td>8.943707</td>\n",
       "      <td>73.303838</td>\n",
       "      <td>76.777169</td>\n",
       "    </tr>\n",
       "    <tr>\n",
       "      <th>2023-12-26</th>\n",
       "      <td>254.490005</td>\n",
       "      <td>257.970001</td>\n",
       "      <td>252.910004</td>\n",
       "      <td>256.609985</td>\n",
       "      <td>256.609985</td>\n",
       "      <td>86892400</td>\n",
       "      <td>250.093997</td>\n",
       "      <td>250.652848</td>\n",
       "      <td>62.495251</td>\n",
       "      <td>5.495890</td>\n",
       "      <td>0.859727</td>\n",
       "      <td>231.774750</td>\n",
       "      <td>245.529999</td>\n",
       "      <td>259.285248</td>\n",
       "      <td>11.204536</td>\n",
       "      <td>0.902755</td>\n",
       "      <td>8.692729</td>\n",
       "      <td>83.280646</td>\n",
       "      <td>78.639999</td>\n",
       "    </tr>\n",
       "    <tr>\n",
       "      <th>2023-12-27</th>\n",
       "      <td>258.350006</td>\n",
       "      <td>263.339996</td>\n",
       "      <td>257.519989</td>\n",
       "      <td>261.440002</td>\n",
       "      <td>261.440002</td>\n",
       "      <td>106494400</td>\n",
       "      <td>252.536998</td>\n",
       "      <td>252.614149</td>\n",
       "      <td>66.478540</td>\n",
       "      <td>6.031711</td>\n",
       "      <td>1.116439</td>\n",
       "      <td>230.858776</td>\n",
       "      <td>246.265999</td>\n",
       "      <td>261.673222</td>\n",
       "      <td>12.512667</td>\n",
       "      <td>0.992432</td>\n",
       "      <td>8.552535</td>\n",
       "      <td>87.104124</td>\n",
       "      <td>81.229536</td>\n",
       "    </tr>\n",
       "    <tr>\n",
       "      <th>2023-12-28</th>\n",
       "      <td>263.660004</td>\n",
       "      <td>265.130005</td>\n",
       "      <td>252.710007</td>\n",
       "      <td>253.179993</td>\n",
       "      <td>253.179993</td>\n",
       "      <td>113619900</td>\n",
       "      <td>253.925998</td>\n",
       "      <td>252.717030</td>\n",
       "      <td>55.315302</td>\n",
       "      <td>5.723858</td>\n",
       "      <td>0.646868</td>\n",
       "      <td>231.058433</td>\n",
       "      <td>246.717999</td>\n",
       "      <td>262.377564</td>\n",
       "      <td>12.694303</td>\n",
       "      <td>0.706327</td>\n",
       "      <td>8.828782</td>\n",
       "      <td>84.008633</td>\n",
       "      <td>84.797801</td>\n",
       "    </tr>\n",
       "    <tr>\n",
       "      <th>2023-12-29</th>\n",
       "      <td>255.100006</td>\n",
       "      <td>255.190002</td>\n",
       "      <td>247.429993</td>\n",
       "      <td>248.479996</td>\n",
       "      <td>248.479996</td>\n",
       "      <td>100615300</td>\n",
       "      <td>253.668997</td>\n",
       "      <td>251.946660</td>\n",
       "      <td>50.006354</td>\n",
       "      <td>5.042505</td>\n",
       "      <td>-0.027588</td>\n",
       "      <td>231.765142</td>\n",
       "      <td>247.137998</td>\n",
       "      <td>262.510854</td>\n",
       "      <td>12.440706</td>\n",
       "      <td>0.543648</td>\n",
       "      <td>8.752441</td>\n",
       "      <td>72.383073</td>\n",
       "      <td>81.165277</td>\n",
       "    </tr>\n",
       "  </tbody>\n",
       "</table>\n",
       "<p>1006 rows × 19 columns</p>\n",
       "</div>"
      ],
      "text/plain": [
       "                  Open        High         Low       Close   Adj Close  \\\n",
       "Date                                                                     \n",
       "2020-01-02   28.299999   28.713333   28.114000   28.684000   28.684000   \n",
       "2020-01-03   29.366667   30.266666   29.128000   29.534000   29.534000   \n",
       "2020-01-06   29.364668   30.104000   29.333332   30.102667   30.102667   \n",
       "2020-01-07   30.760000   31.441999   30.224001   31.270666   31.270666   \n",
       "2020-01-08   31.580000   33.232666   31.215334   32.809334   32.809334   \n",
       "...                ...         ...         ...         ...         ...   \n",
       "2023-12-22  256.760010  258.220001  251.369995  252.539993  252.539993   \n",
       "2023-12-26  254.490005  257.970001  252.910004  256.609985  256.609985   \n",
       "2023-12-27  258.350006  263.339996  257.519989  261.440002  261.440002   \n",
       "2023-12-28  263.660004  265.130005  252.710007  253.179993  253.179993   \n",
       "2023-12-29  255.100006  255.190002  247.429993  248.479996  248.479996   \n",
       "\n",
       "               Volume      SMA_10      EMA_10     RSI_10      MACD  \\\n",
       "Date                                                                 \n",
       "2020-01-02  142981500         NaN         NaN        NaN  0.000000   \n",
       "2020-01-03  266677500         NaN         NaN        NaN  0.067806   \n",
       "2020-01-06  151995000         NaN         NaN        NaN  0.165522   \n",
       "2020-01-07  268231500         NaN         NaN        NaN  0.333367   \n",
       "2020-01-08  467164500         NaN         NaN        NaN  0.583813   \n",
       "...               ...         ...         ...        ...       ...   \n",
       "2023-12-22   93249800  248.406999  249.329040  58.780695  5.223831   \n",
       "2023-12-26   86892400  250.093997  250.652848  62.495251  5.495890   \n",
       "2023-12-27  106494400  252.536998  252.614149  66.478540  6.031711   \n",
       "2023-12-28  113619900  253.925998  252.717030  55.315302  5.723858   \n",
       "2023-12-29  100615300  253.668997  251.946660  50.006354  5.042505   \n",
       "\n",
       "            MACD_Histogram  BBL_20_2.0  BBM_20_2.0  BBU_20_2.0  BBB_20_2.0  \\\n",
       "Date                                                                         \n",
       "2020-01-02        0.000000         NaN         NaN         NaN         NaN   \n",
       "2020-01-03        0.054245         NaN         NaN         NaN         NaN   \n",
       "2020-01-06        0.121568         NaN         NaN         NaN         NaN   \n",
       "2020-01-07        0.231531         NaN         NaN         NaN         NaN   \n",
       "2020-01-08        0.385582         NaN         NaN         NaN         NaN   \n",
       "...                    ...         ...         ...         ...         ...   \n",
       "2023-12-22        0.802601  231.150622  244.503500  257.856377   10.922443   \n",
       "2023-12-26        0.859727  231.774750  245.529999  259.285248   11.204536   \n",
       "2023-12-27        1.116439  230.858776  246.265999  261.673222   12.512667   \n",
       "2023-12-28        0.646868  231.058433  246.717999  262.377564   12.694303   \n",
       "2023-12-29       -0.027588  231.765142  247.137998  262.510854   12.440706   \n",
       "\n",
       "            BBP_20_2.0   ATRr_14    stoch_k    stoch_d  \n",
       "Date                                                    \n",
       "2020-01-02         NaN       NaN        NaN        NaN  \n",
       "2020-01-03         NaN       NaN        NaN        NaN  \n",
       "2020-01-06         NaN       NaN        NaN        NaN  \n",
       "2020-01-07         NaN       NaN        NaN        NaN  \n",
       "2020-01-08         NaN       NaN        NaN        NaN  \n",
       "...                ...       ...        ...        ...  \n",
       "2023-12-22    0.800927  8.943707  73.303838  76.777169  \n",
       "2023-12-26    0.902755  8.692729  83.280646  78.639999  \n",
       "2023-12-27    0.992432  8.552535  87.104124  81.229536  \n",
       "2023-12-28    0.706327  8.828782  84.008633  84.797801  \n",
       "2023-12-29    0.543648  8.752441  72.383073  81.165277  \n",
       "\n",
       "[1006 rows x 19 columns]"
      ]
     },
     "execution_count": 42,
     "metadata": {},
     "output_type": "execute_result"
    }
   ],
   "source": [
    "%%time\n",
    "\n",
    "df = pd.read_csv(\"Base_dados/hist_TSLA\")\n",
    "\n",
    "\n",
    "lista_colunas = ['Unnamed: 0.5','Unnamed: 0.4','Unnamed: 0.3','Unnamed: 0.2','Unnamed: 0.1','Unnamed: 0']\n",
    "\n",
    "df = df.drop(columns=lista_colunas)\n",
    "df = df.set_index('Date')\n",
    "\n",
    "df"
   ]
  },
  {
   "cell_type": "code",
   "execution_count": 48,
   "metadata": {},
   "outputs": [
    {
     "data": {
      "text/plain": [
       "<Axes: >"
      ]
     },
     "execution_count": 48,
     "metadata": {},
     "output_type": "execute_result"
    }
   ],
   "source": [
    "df.boxplot(column=[\"High\"])"
   ]
  },
  {
   "cell_type": "code",
   "execution_count": 31,
   "metadata": {},
   "outputs": [
    {
     "name": "stdout",
     "output_type": "stream",
     "text": [
      "<class 'pandas.core.frame.DataFrame'>\n",
      "Index: 1006 entries, 2020-01-02 to 2023-12-29\n",
      "Data columns (total 19 columns):\n",
      " #   Column          Non-Null Count  Dtype  \n",
      "---  ------          --------------  -----  \n",
      " 0   Open            1006 non-null   float64\n",
      " 1   High            1006 non-null   float64\n",
      " 2   Low             1006 non-null   float64\n",
      " 3   Close           1006 non-null   float64\n",
      " 4   Adj Close       1006 non-null   float64\n",
      " 5   Volume          1006 non-null   int64  \n",
      " 6   SMA_10          997 non-null    float64\n",
      " 7   EMA_10          997 non-null    float64\n",
      " 8   RSI_10          996 non-null    float64\n",
      " 9   MACD            1006 non-null   float64\n",
      " 10  MACD_Histogram  1006 non-null   float64\n",
      " 11  BBL_20_2.0      987 non-null    float64\n",
      " 12  BBM_20_2.0      987 non-null    float64\n",
      " 13  BBU_20_2.0      987 non-null    float64\n",
      " 14  BBB_20_2.0      987 non-null    float64\n",
      " 15  BBP_20_2.0      987 non-null    float64\n",
      " 16  ATRr_14         992 non-null    float64\n",
      " 17  stoch_k         991 non-null    float64\n",
      " 18  stoch_d         989 non-null    float64\n",
      "dtypes: float64(18), int64(1)\n",
      "memory usage: 157.2+ KB\n"
     ]
    }
   ],
   "source": [
    "df.info()"
   ]
  },
  {
   "cell_type": "code",
   "execution_count": 33,
   "metadata": {},
   "outputs": [],
   "source": [
    "df.dropna(inplace=True)  # Remove linhas com valores ausentes"
   ]
  },
  {
   "cell_type": "code",
   "execution_count": 34,
   "metadata": {},
   "outputs": [
    {
     "data": {
      "text/html": [
       "<div>\n",
       "<style scoped>\n",
       "    .dataframe tbody tr th:only-of-type {\n",
       "        vertical-align: middle;\n",
       "    }\n",
       "\n",
       "    .dataframe tbody tr th {\n",
       "        vertical-align: top;\n",
       "    }\n",
       "\n",
       "    .dataframe thead th {\n",
       "        text-align: right;\n",
       "    }\n",
       "</style>\n",
       "<table border=\"1\" class=\"dataframe\">\n",
       "  <thead>\n",
       "    <tr style=\"text-align: right;\">\n",
       "      <th></th>\n",
       "      <th>Open</th>\n",
       "      <th>High</th>\n",
       "      <th>Low</th>\n",
       "      <th>Close</th>\n",
       "      <th>Adj Close</th>\n",
       "      <th>Volume</th>\n",
       "      <th>SMA_10</th>\n",
       "      <th>EMA_10</th>\n",
       "      <th>RSI_10</th>\n",
       "      <th>MACD</th>\n",
       "      <th>MACD_Histogram</th>\n",
       "      <th>BBL_20_2.0</th>\n",
       "      <th>BBM_20_2.0</th>\n",
       "      <th>BBU_20_2.0</th>\n",
       "      <th>BBB_20_2.0</th>\n",
       "      <th>BBP_20_2.0</th>\n",
       "      <th>ATRr_14</th>\n",
       "      <th>stoch_k</th>\n",
       "      <th>stoch_d</th>\n",
       "    </tr>\n",
       "    <tr>\n",
       "      <th>Date</th>\n",
       "      <th></th>\n",
       "      <th></th>\n",
       "      <th></th>\n",
       "      <th></th>\n",
       "      <th></th>\n",
       "      <th></th>\n",
       "      <th></th>\n",
       "      <th></th>\n",
       "      <th></th>\n",
       "      <th></th>\n",
       "      <th></th>\n",
       "      <th></th>\n",
       "      <th></th>\n",
       "      <th></th>\n",
       "      <th></th>\n",
       "      <th></th>\n",
       "      <th></th>\n",
       "      <th></th>\n",
       "      <th></th>\n",
       "    </tr>\n",
       "  </thead>\n",
       "  <tbody>\n",
       "    <tr>\n",
       "      <th>2020-01-30</th>\n",
       "      <td>42.161331</td>\n",
       "      <td>43.391998</td>\n",
       "      <td>41.200001</td>\n",
       "      <td>42.720669</td>\n",
       "      <td>42.720669</td>\n",
       "      <td>435085500</td>\n",
       "      <td>37.496600</td>\n",
       "      <td>37.734858</td>\n",
       "      <td>85.787607</td>\n",
       "      <td>2.639939</td>\n",
       "      <td>0.550914</td>\n",
       "      <td>27.812377</td>\n",
       "      <td>34.837566</td>\n",
       "      <td>41.862756</td>\n",
       "      <td>40.331117</td>\n",
       "      <td>1.061060</td>\n",
       "      <td>1.971172</td>\n",
       "      <td>87.117057</td>\n",
       "      <td>81.736019</td>\n",
       "    </tr>\n",
       "    <tr>\n",
       "      <th>2020-01-31</th>\n",
       "      <td>42.666668</td>\n",
       "      <td>43.533333</td>\n",
       "      <td>42.167999</td>\n",
       "      <td>43.371334</td>\n",
       "      <td>43.371334</td>\n",
       "      <td>235789500</td>\n",
       "      <td>38.410467</td>\n",
       "      <td>38.759672</td>\n",
       "      <td>86.677273</td>\n",
       "      <td>2.930907</td>\n",
       "      <td>0.673505</td>\n",
       "      <td>28.210692</td>\n",
       "      <td>35.571933</td>\n",
       "      <td>42.933175</td>\n",
       "      <td>41.387919</td>\n",
       "      <td>1.029761</td>\n",
       "      <td>1.915179</td>\n",
       "      <td>93.899932</td>\n",
       "      <td>87.137657</td>\n",
       "    </tr>\n",
       "    <tr>\n",
       "      <th>2020-02-03</th>\n",
       "      <td>44.912666</td>\n",
       "      <td>52.409332</td>\n",
       "      <td>44.901333</td>\n",
       "      <td>52.000000</td>\n",
       "      <td>52.000000</td>\n",
       "      <td>705975000</td>\n",
       "      <td>40.207133</td>\n",
       "      <td>41.167004</td>\n",
       "      <td>93.069622</td>\n",
       "      <td>3.813799</td>\n",
       "      <td>1.245117</td>\n",
       "      <td>26.906177</td>\n",
       "      <td>36.695233</td>\n",
       "      <td>46.484289</td>\n",
       "      <td>53.353283</td>\n",
       "      <td>1.281728</td>\n",
       "      <td>2.559948</td>\n",
       "      <td>96.906199</td>\n",
       "      <td>92.641063</td>\n",
       "    </tr>\n",
       "    <tr>\n",
       "      <th>2020-02-04</th>\n",
       "      <td>58.863998</td>\n",
       "      <td>64.599335</td>\n",
       "      <td>55.591999</td>\n",
       "      <td>59.137333</td>\n",
       "      <td>59.137333</td>\n",
       "      <td>914082000</td>\n",
       "      <td>42.472867</td>\n",
       "      <td>44.434337</td>\n",
       "      <td>95.190505</td>\n",
       "      <td>5.031421</td>\n",
       "      <td>1.970192</td>\n",
       "      <td>24.751718</td>\n",
       "      <td>38.146966</td>\n",
       "      <td>51.542215</td>\n",
       "      <td>70.229691</td>\n",
       "      <td>1.283500</td>\n",
       "      <td>3.451703</td>\n",
       "      <td>93.073154</td>\n",
       "      <td>94.626429</td>\n",
       "    </tr>\n",
       "    <tr>\n",
       "      <th>2020-02-05</th>\n",
       "      <td>54.883999</td>\n",
       "      <td>56.398666</td>\n",
       "      <td>46.940666</td>\n",
       "      <td>48.980000</td>\n",
       "      <td>48.980000</td>\n",
       "      <td>726357000</td>\n",
       "      <td>43.573800</td>\n",
       "      <td>45.260821</td>\n",
       "      <td>64.148610</td>\n",
       "      <td>5.117789</td>\n",
       "      <td>1.645248</td>\n",
       "      <td>25.237119</td>\n",
       "      <td>39.032433</td>\n",
       "      <td>52.827747</td>\n",
       "      <td>70.686417</td>\n",
       "      <td>0.860541</td>\n",
       "      <td>4.215197</td>\n",
       "      <td>77.197608</td>\n",
       "      <td>89.058987</td>\n",
       "    </tr>\n",
       "  </tbody>\n",
       "</table>\n",
       "</div>"
      ],
      "text/plain": [
       "                 Open       High        Low      Close  Adj Close     Volume  \\\n",
       "Date                                                                           \n",
       "2020-01-30  42.161331  43.391998  41.200001  42.720669  42.720669  435085500   \n",
       "2020-01-31  42.666668  43.533333  42.167999  43.371334  43.371334  235789500   \n",
       "2020-02-03  44.912666  52.409332  44.901333  52.000000  52.000000  705975000   \n",
       "2020-02-04  58.863998  64.599335  55.591999  59.137333  59.137333  914082000   \n",
       "2020-02-05  54.883999  56.398666  46.940666  48.980000  48.980000  726357000   \n",
       "\n",
       "               SMA_10     EMA_10     RSI_10      MACD  MACD_Histogram  \\\n",
       "Date                                                                    \n",
       "2020-01-30  37.496600  37.734858  85.787607  2.639939        0.550914   \n",
       "2020-01-31  38.410467  38.759672  86.677273  2.930907        0.673505   \n",
       "2020-02-03  40.207133  41.167004  93.069622  3.813799        1.245117   \n",
       "2020-02-04  42.472867  44.434337  95.190505  5.031421        1.970192   \n",
       "2020-02-05  43.573800  45.260821  64.148610  5.117789        1.645248   \n",
       "\n",
       "            BBL_20_2.0  BBM_20_2.0  BBU_20_2.0  BBB_20_2.0  BBP_20_2.0  \\\n",
       "Date                                                                     \n",
       "2020-01-30   27.812377   34.837566   41.862756   40.331117    1.061060   \n",
       "2020-01-31   28.210692   35.571933   42.933175   41.387919    1.029761   \n",
       "2020-02-03   26.906177   36.695233   46.484289   53.353283    1.281728   \n",
       "2020-02-04   24.751718   38.146966   51.542215   70.229691    1.283500   \n",
       "2020-02-05   25.237119   39.032433   52.827747   70.686417    0.860541   \n",
       "\n",
       "             ATRr_14    stoch_k    stoch_d  \n",
       "Date                                        \n",
       "2020-01-30  1.971172  87.117057  81.736019  \n",
       "2020-01-31  1.915179  93.899932  87.137657  \n",
       "2020-02-03  2.559948  96.906199  92.641063  \n",
       "2020-02-04  3.451703  93.073154  94.626429  \n",
       "2020-02-05  4.215197  77.197608  89.058987  "
      ]
     },
     "execution_count": 34,
     "metadata": {},
     "output_type": "execute_result"
    }
   ],
   "source": [
    "df.head()"
   ]
  },
  {
   "cell_type": "code",
   "execution_count": null,
   "metadata": {},
   "outputs": [],
   "source": []
  }
 ],
 "metadata": {
  "kernelspec": {
   "display_name": "Python 3",
   "language": "python",
   "name": "python3"
  },
  "language_info": {
   "codemirror_mode": {
    "name": "ipython",
    "version": 3
   },
   "file_extension": ".py",
   "mimetype": "text/x-python",
   "name": "python",
   "nbconvert_exporter": "python",
   "pygments_lexer": "ipython3",
   "version": "3.10.2"
  }
 },
 "nbformat": 4,
 "nbformat_minor": 2
}
