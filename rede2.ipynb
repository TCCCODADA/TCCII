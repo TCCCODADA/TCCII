{
 "cells": [
  {
   "cell_type": "code",
   "execution_count": 56,
   "metadata": {},
   "outputs": [],
   "source": [
    "#!pip install numpy pandas matplotlib scikit-learn tensorflow keras"
   ]
  },
  {
   "cell_type": "code",
   "execution_count": 57,
   "metadata": {},
   "outputs": [
    {
     "ename": "ImportError",
     "evalue": "cannot import name 'current_year_accuracy' from 'sklearn.metrics' (C:\\Users\\scomp\\AppData\\Local\\Packages\\PythonSoftwareFoundation.Python.3.11_qbz5n2kfra8p0\\LocalCache\\local-packages\\Python311\\site-packages\\sklearn\\metrics\\__init__.py)",
     "output_type": "error",
     "traceback": [
      "\u001b[1;31m---------------------------------------------------------------------------\u001b[0m",
      "\u001b[1;31mImportError\u001b[0m                               Traceback (most recent call last)",
      "Cell \u001b[1;32mIn[57], line 7\u001b[0m\n\u001b[0;32m      5\u001b[0m \u001b[38;5;28;01mfrom\u001b[39;00m \u001b[38;5;21;01msklearn\u001b[39;00m\u001b[38;5;21;01m.\u001b[39;00m\u001b[38;5;21;01mpreprocessing\u001b[39;00m \u001b[38;5;28;01mimport\u001b[39;00m MinMaxScaler\n\u001b[0;32m      6\u001b[0m \u001b[38;5;28;01mfrom\u001b[39;00m \u001b[38;5;21;01msklearn\u001b[39;00m\u001b[38;5;21;01m.\u001b[39;00m\u001b[38;5;21;01mmodel_selection\u001b[39;00m \u001b[38;5;28;01mimport\u001b[39;00m TimeSeriesSplit\n\u001b[1;32m----> 7\u001b[0m \u001b[38;5;28;01mfrom\u001b[39;00m \u001b[38;5;21;01msklearn\u001b[39;00m\u001b[38;5;21;01m.\u001b[39;00m\u001b[38;5;21;01mmetrics\u001b[39;00m \u001b[38;5;28;01mimport\u001b[39;00m mean_squared_error, mean_absolute_error, classification_report, confusion_matrix, accuracy_score, precision_score, recall_score, f1_score, current_year_accuracy\n\u001b[0;32m      9\u001b[0m \u001b[38;5;28;01mfrom\u001b[39;00m \u001b[38;5;21;01mtensorflow\u001b[39;00m\u001b[38;5;21;01m.\u001b[39;00m\u001b[38;5;21;01mkeras\u001b[39;00m\u001b[38;5;21;01m.\u001b[39;00m\u001b[38;5;21;01mmodels\u001b[39;00m \u001b[38;5;28;01mimport\u001b[39;00m Sequential\n\u001b[0;32m     10\u001b[0m \u001b[38;5;28;01mfrom\u001b[39;00m \u001b[38;5;21;01mtensorflow\u001b[39;00m\u001b[38;5;21;01m.\u001b[39;00m\u001b[38;5;21;01mkeras\u001b[39;00m\u001b[38;5;21;01m.\u001b[39;00m\u001b[38;5;21;01mlayers\u001b[39;00m \u001b[38;5;28;01mimport\u001b[39;00m Conv1D, MaxPooling1D, Flatten, Dense, LSTM\n",
      "\u001b[1;31mImportError\u001b[0m: cannot import name 'current_year_accuracy' from 'sklearn.metrics' (C:\\Users\\scomp\\AppData\\Local\\Packages\\PythonSoftwareFoundation.Python.3.11_qbz5n2kfra8p0\\LocalCache\\local-packages\\Python311\\site-packages\\sklearn\\metrics\\__init__.py)"
     ]
    }
   ],
   "source": [
    "import numpy as np\n",
    "import pandas as pd\n",
    "import matplotlib.pyplot as plt\n",
    "\n",
    "from sklearn.preprocessing import MinMaxScaler\n",
    "from sklearn.model_selection import TimeSeriesSplit\n",
    "from sklearn.metrics import mean_squared_error, mean_absolute_error, classification_report, confusion_matrix, accuracy_score, precision_score, recall_score, f1_score\n",
    "\n",
    "from tensorflow.keras.models import Sequential\n",
    "from tensorflow.keras.layers import Conv1D, MaxPooling1D, Flatten, Dense, LSTM, Dropout\n",
    "from tensorflow.keras.callbacks import EarlyStopping\n",
    "\n",
    "import os"
   ]
  },
  {
   "cell_type": "markdown",
   "metadata": {},
   "source": [
    "## Carregando os dados e colocando a coluna 'Date' como índice"
   ]
  },
  {
   "cell_type": "code",
   "execution_count": 40,
   "metadata": {},
   "outputs": [
    {
     "name": "stdout",
     "output_type": "stream",
     "text": [
      "        Date    Open       High        Low      Close  Adj Close      Volume  \\\n",
      "0 2020-01-29  25.500  25.690001  24.680000  24.730000  18.055990  16800400.0   \n",
      "1 2020-01-30  24.350  24.995001  24.184999  24.900000  18.180117  25079800.0   \n",
      "2 2020-01-31  24.555  24.559999  24.110001  24.270000  17.720137  32252800.0   \n",
      "3 2020-02-03  24.275  24.570000  24.004999  24.389999  17.807749  20402800.0   \n",
      "4 2020-02-04  24.645  24.799999  24.125000  24.125000  17.614269  23533200.0   \n",
      "\n",
      "    SMA_10     EMA_10     RSI_10      MACD  MACD_Histogram  BBL_20_2.0  \\\n",
      "0  24.9610  25.132101  40.316762 -0.407259        0.043456   23.842415   \n",
      "1  24.9785  25.089901  43.272728 -0.397243        0.042777   23.898938   \n",
      "2  24.8995  24.940828  35.942692 -0.435126        0.003916   23.906795   \n",
      "3  24.8485  24.840677  38.159656 -0.450275       -0.008986   23.925546   \n",
      "4  24.8430  24.710554  35.172752 -0.478152       -0.029490   23.906871   \n",
      "\n",
      "   BBM_20_2.0  BBU_20_2.0  BBB_20_2.0  BBP_20_2.0   ATRr_14    stoch_k  \\\n",
      "0    25.37925   26.916085   12.110956    0.288770  0.657309  49.601297   \n",
      "1    25.27925   26.659562   10.920515    0.362622  0.671421  51.425920   \n",
      "2    25.15000   26.393205    9.886323    0.146076  0.682155  35.471343   \n",
      "3    25.04450   26.163454    8.935726    0.207539  0.671748  29.165458   \n",
      "4    24.93575   25.964629    8.252241    0.106003  0.672032  14.464147   \n",
      "\n",
      "     stoch_d  \n",
      "0  52.955596  \n",
      "1  51.777618  \n",
      "2  45.499520  \n",
      "3  38.687573  \n",
      "4  26.366983  \n",
      "        Date        Open        High         Low       Close   Adj Close  \\\n",
      "0 2020-01-30  111.430000  111.889999  110.309998  111.639999  109.192337   \n",
      "1 2020-01-31  110.750000  110.750000  105.500000  107.919998  105.553894   \n",
      "2 2020-02-03  107.930000  109.449997  104.400002  105.040001  102.737030   \n",
      "3 2020-02-04  106.440002  107.419998  105.330002  107.070000  104.722519   \n",
      "4 2020-02-05  108.620003  108.959999  107.120003  107.820000  105.456093   \n",
      "\n",
      "      Volume      SMA_10      EMA_10     RSI_10      MACD  MACD_Histogram  \\\n",
      "0  3838500.0  112.181001  111.597334  56.094663  1.126726        0.015456   \n",
      "1  6995800.0  111.847000  110.928727  36.025554  0.762303       -0.279174   \n",
      "2  4155500.0  111.058000  109.858050  27.547514  0.238355       -0.642497   \n",
      "3  4190500.0  110.524000  109.351131  38.822976 -0.012924       -0.715021   \n",
      "4  2895700.0  109.997000  109.072744  42.496622 -0.149819       -0.681533   \n",
      "\n",
      "   BBL_20_2.0  BBM_20_2.0  BBU_20_2.0  BBB_20_2.0  BBP_20_2.0   ATRr_14  \\\n",
      "0  106.714054    110.4985  114.282945    6.849768    0.650815  1.866291   \n",
      "1  106.832480    110.5275  114.222519    6.686154    0.147160  2.261275   \n",
      "2  106.246421    110.4195  114.592579    7.558591   -0.144548  2.513715   \n",
      "3  105.964608    110.3340  114.703392    7.920300    0.126493  2.501837   \n",
      "4  105.878701    110.3055  114.732299    8.026433    0.219267  2.448420   \n",
      "\n",
      "     stoch_k    stoch_d  \n",
      "0  63.504799  61.370895  \n",
      "1  51.224717  57.879055  \n",
      "2  30.876484  48.535333  \n",
      "3  20.686731  34.262644  \n",
      "4  23.055837  24.873017  \n",
      "        Date        Open        High         Low       Close   Adj Close  \\\n",
      "0 2020-01-30  341.100006  348.200012  339.250000  347.739990  347.739990   \n",
      "1 2020-01-31  347.390015  347.390015  340.980011  345.089996  345.089996   \n",
      "2 2020-02-03  347.239990  359.630005  346.279999  358.000000  358.000000   \n",
      "3 2020-02-04  361.000000  369.570007  356.100006  369.010010  369.010010   \n",
      "4 2020-02-05  375.130005  375.250000  362.299988  369.670013  369.670013   \n",
      "\n",
      "      Volume      SMA_10      EMA_10     RSI_10      MACD  MACD_Histogram  \\\n",
      "0  5328100.0  342.745999  343.245081  57.522049  4.064595        0.866425   \n",
      "1  5230000.0  343.392999  343.580520  54.647610  3.967749        0.615663   \n",
      "2  6670600.0  345.225998  346.202244  64.303344  4.876514        1.219542   \n",
      "3  7161500.0  348.316000  350.349111  70.295994  6.411227        2.203405   \n",
      "4  6437000.0  352.683002  353.862002  70.624462  7.593226        2.708323   \n",
      "\n",
      "   BBL_20_2.0  BBM_20_2.0  BBU_20_2.0  BBB_20_2.0  BBP_20_2.0    ATRr_14  \\\n",
      "0  323.536462  338.520000  353.503538    8.852380    0.807671  10.993144   \n",
      "1  324.599594  339.284000  353.968405    8.656115    0.697693  10.601907   \n",
      "2  325.411304  340.889000  356.366696    9.080784    1.052763  10.958390   \n",
      "3  323.013686  342.548001  362.082316   11.405301    1.177321  11.181485   \n",
      "4  322.454856  344.494002  366.533147   12.795082    1.071166  11.335889   \n",
      "\n",
      "     stoch_k    stoch_d  \n",
      "0  63.098818  63.311982  \n",
      "1  59.944802  60.557829  \n",
      "2  73.590775  65.544798  \n",
      "3  84.320362  72.618646  \n",
      "4  94.291631  84.067590  \n",
      "        Date     Open     High      Low    Close  Adj Close       Volume  \\\n",
      "0 2020-01-30  6.04025  6.15875  5.98500  6.14525   6.120016  290504000.0   \n",
      "1 2020-01-31  6.09925  6.11125  5.86875  5.91075   5.886480  370420000.0   \n",
      "2 2020-02-03  5.89250  6.02775  5.88625  6.00825   5.983579  255564000.0   \n",
      "3 2020-02-04  6.15075  6.19750  6.10050  6.17825   6.152881  271544000.0   \n",
      "4 2020-02-05  6.29975  6.31000  6.18525  6.26900   6.243258  208220000.0   \n",
      "\n",
      "     SMA_10    EMA_10     RSI_10      MACD  MACD_Histogram  BBL_20_2.0  \\\n",
      "0  6.197800  6.160902  50.255836  0.039786       -0.008726    5.889337   \n",
      "1  6.166550  6.115419  37.040416  0.016798       -0.025372    5.872733   \n",
      "2  6.144175  6.095934  43.860417  0.006373       -0.028637    5.893122   \n",
      "3  6.142150  6.110901  53.598139  0.011694       -0.018653    5.924531   \n",
      "4  6.143775  6.139646  57.926777  0.022969       -0.005902    5.942424   \n",
      "\n",
      "   BBM_20_2.0  BBU_20_2.0  BBB_20_2.0  BBP_20_2.0   ATRr_14    stoch_k  \\\n",
      "0    6.130800    6.372263    7.877034    0.529922  0.171109  52.108551   \n",
      "1    6.126450    6.380167    8.282684    0.074920  0.180850  38.002687   \n",
      "2    6.131775    6.370428    7.784140    0.241204  0.177288  31.634276   \n",
      "3    6.144362    6.364194    7.155549    0.577076  0.178350  33.247770   \n",
      "4    6.157900    6.373376    6.998362    0.757801  0.174282  50.763965   \n",
      "\n",
      "     stoch_d  \n",
      "0  49.674762  \n",
      "1  45.120817  \n",
      "2  40.581838  \n",
      "3  34.294911  \n",
      "4  38.548670  \n",
      "        Date       Open       High        Low      Close  Adj Close  \\\n",
      "0 2020-01-29  29.000000  29.080000  28.670000  28.850000   9.981386   \n",
      "1 2020-01-30  28.280001  29.040001  28.180000  28.940001  10.012523   \n",
      "2 2020-01-31  28.629999  28.840000  28.309999  28.450001   9.842996   \n",
      "3 2020-02-03  28.520000  28.730000  28.160000  28.180000   9.749581   \n",
      "4 2020-02-04  28.650000  29.040001  28.559999  28.629999   9.905271   \n",
      "\n",
      "       Volume  SMA_10     EMA_10     RSI_10      MACD  MACD_Histogram  \\\n",
      "0  42297500.0  29.291  29.236263  37.600867 -0.471141       -0.126467   \n",
      "1  44266800.0  29.233  29.182397  39.395227 -0.466857       -0.097746   \n",
      "2  55446700.0  29.093  29.049234  33.557649 -0.497268       -0.102526   \n",
      "3  39452800.0  28.911  28.891192  30.766439 -0.536966       -0.113779   \n",
      "4  57658400.0  28.812  28.843702  40.007140 -0.526052       -0.082292   \n",
      "\n",
      "   BBL_20_2.0  BBM_20_2.0  BBU_20_2.0  BBB_20_2.0  BBP_20_2.0   ATRr_14  \\\n",
      "0   28.402096     29.8305   31.258904    9.576805    0.156785  0.657606   \n",
      "1   28.322375     29.7425   31.162625    9.549465    0.217455  0.676312   \n",
      "2   28.155640     29.6425   31.129361   10.031951    0.098987  0.672119   \n",
      "3   27.995495     29.5110   31.026505   10.270780    0.060872  0.663049   \n",
      "4   27.948019     29.4080   30.867981    9.929139    0.233558  0.680244   \n",
      "\n",
      "     stoch_k    stoch_d  \n",
      "0  30.839083  26.644553  \n",
      "1  42.306278  32.517223  \n",
      "2  39.537936  37.561099  \n",
      "3  32.334063  38.059426  \n",
      "4  30.164604  34.012201  \n",
      "        Date       Open       High        Low      Close  Adj Close  \\\n",
      "0 2020-01-29  31.980000  32.080002  31.700001  31.799999  20.701065   \n",
      "1 2020-01-30  31.450001  31.680000  30.850000  31.250000  20.343027   \n",
      "2 2020-01-31  31.309999  31.379999  30.850000  31.129999  20.264910   \n",
      "3 2020-02-03  31.100000  31.620001  31.059999  31.240000  20.336519   \n",
      "4 2020-02-04  31.500000  31.750000  31.190001  31.219999  20.323503   \n",
      "\n",
      "      Volume  SMA_10     EMA_10     RSI_10      MACD  MACD_Histogram  \\\n",
      "0   991300.0  31.724  31.642134  61.191478  0.306002        0.086246   \n",
      "1  1447700.0  31.780  31.570837  47.118924  0.257412        0.030124   \n",
      "2  1272100.0  31.761  31.490684  44.630668  0.206836       -0.016361   \n",
      "3  2246000.0  31.685  31.445105  47.456751  0.173629       -0.039655   \n",
      "4  1185200.0  31.614  31.404177  46.972400  0.144038       -0.055397   \n",
      "\n",
      "   BBL_20_2.0  BBM_20_2.0  BBU_20_2.0  BBB_20_2.0  BBP_20_2.0   ATRr_14  \\\n",
      "0   29.814114     31.1540   32.493886    8.601696    0.741065  0.530255   \n",
      "1   29.841932     31.1745   32.507068    8.549092    0.528329  0.569049   \n",
      "2   29.869261     31.1910   32.512740    8.475133    0.476924  0.565514   \n",
      "3   29.884876     31.2035   32.522124    8.451772    0.513840  0.565024   \n",
      "4   29.942326     31.2335   32.524674    8.267879    0.494772  0.564586   \n",
      "\n",
      "     stoch_k    stoch_d  \n",
      "0  76.424285  80.598074  \n",
      "1  66.803854  74.409397  \n",
      "2  52.531834  65.253324  \n",
      "3  40.920446  53.418711  \n",
      "4  38.065297  43.839192  \n",
      "        Date       Open       High        Low      Close  Adj Close  \\\n",
      "0 2020-01-30  42.161331  43.391998  41.200001  42.720669  42.720669   \n",
      "1 2020-01-31  42.666668  43.533333  42.167999  43.371334  43.371334   \n",
      "2 2020-02-03  44.912666  52.409332  44.901333  52.000000  52.000000   \n",
      "3 2020-02-04  58.863998  64.599335  55.591999  59.137333  59.137333   \n",
      "4 2020-02-05  54.883999  56.398666  46.940666  48.980000  48.980000   \n",
      "\n",
      "        Volume     SMA_10     EMA_10     RSI_10      MACD  MACD_Histogram  \\\n",
      "0  435085500.0  37.496600  37.734858  85.787607  2.639939        0.550914   \n",
      "1  235789500.0  38.410467  38.759672  86.677273  2.930907        0.673505   \n",
      "2  705975000.0  40.207133  41.167004  93.069622  3.813799        1.245117   \n",
      "3  914082000.0  42.472867  44.434337  95.190505  5.031421        1.970192   \n",
      "4  726357000.0  43.573800  45.260821  64.148610  5.117789        1.645248   \n",
      "\n",
      "   BBL_20_2.0  BBM_20_2.0  BBU_20_2.0  BBB_20_2.0  BBP_20_2.0   ATRr_14  \\\n",
      "0   27.812377   34.837566   41.862756   40.331117    1.061060  1.971172   \n",
      "1   28.210692   35.571933   42.933175   41.387919    1.029761  1.915179   \n",
      "2   26.906177   36.695233   46.484289   53.353283    1.281728  2.559948   \n",
      "3   24.751718   38.146966   51.542215   70.229691    1.283500  3.451703   \n",
      "4   25.237119   39.032433   52.827747   70.686417    0.860541  4.215197   \n",
      "\n",
      "     stoch_k    stoch_d  \n",
      "0  87.117057  81.736019  \n",
      "1  93.899932  87.137657  \n",
      "2  96.906199  92.641063  \n",
      "3  93.073154  94.626429  \n",
      "4  77.197608  89.058987  \n"
     ]
    }
   ],
   "source": [
    "caminho_pasta = 'Base_dados'\n",
    "lista_arquivos = [arquivo for arquivo in os.listdir(caminho_pasta) if os.path.isfile(os.path.join(caminho_pasta, arquivo))]\n",
    "\n",
    "for arq in lista_arquivos:\n",
    "    #converte a coluna 'Date' para o tipo datetime\n",
    "    df = pd.read_csv(f'Base_dados/{arq}', parse_dates=['Date'])\n",
    "    df = df.sort_values('Date')\n",
    "    # Verificar se a coluna 'Date' existe e definir como índice\n",
    "    # if 'Date' in df.columns:\n",
    "    #     df = df.set_index('Date')\n",
    "    print(df.head())\n"
   ]
  },
  {
   "cell_type": "code",
   "execution_count": 41,
   "metadata": {},
   "outputs": [
    {
     "name": "stdout",
     "output_type": "stream",
     "text": [
      "<class 'pandas.core.frame.DataFrame'>\n",
      "RangeIndex: 1174 entries, 0 to 1173\n",
      "Data columns (total 20 columns):\n",
      " #   Column          Non-Null Count  Dtype         \n",
      "---  ------          --------------  -----         \n",
      " 0   Date            1174 non-null   datetime64[ns]\n",
      " 1   Open            1174 non-null   float64       \n",
      " 2   High            1174 non-null   float64       \n",
      " 3   Low             1174 non-null   float64       \n",
      " 4   Close           1174 non-null   float64       \n",
      " 5   Adj Close       1174 non-null   float64       \n",
      " 6   Volume          1174 non-null   float64       \n",
      " 7   SMA_10          1174 non-null   float64       \n",
      " 8   EMA_10          1174 non-null   float64       \n",
      " 9   RSI_10          1174 non-null   float64       \n",
      " 10  MACD            1174 non-null   float64       \n",
      " 11  MACD_Histogram  1174 non-null   float64       \n",
      " 12  BBL_20_2.0      1174 non-null   float64       \n",
      " 13  BBM_20_2.0      1174 non-null   float64       \n",
      " 14  BBU_20_2.0      1174 non-null   float64       \n",
      " 15  BBB_20_2.0      1174 non-null   float64       \n",
      " 16  BBP_20_2.0      1174 non-null   float64       \n",
      " 17  ATRr_14         1174 non-null   float64       \n",
      " 18  stoch_k         1174 non-null   float64       \n",
      " 19  stoch_d         1174 non-null   float64       \n",
      "dtypes: datetime64[ns](1), float64(19)\n",
      "memory usage: 183.6 KB\n"
     ]
    }
   ],
   "source": [
    "df.info()"
   ]
  },
  {
   "cell_type": "markdown",
   "metadata": {},
   "source": [
    "# 1 - Pré-Processamento dos Dados"
   ]
  },
  {
   "cell_type": "markdown",
   "metadata": {},
   "source": [
    "## 1.1 - Selecionar Colunas Relevantes"
   ]
  },
  {
   "cell_type": "code",
   "execution_count": 42,
   "metadata": {},
   "outputs": [],
   "source": [
    "#hist_TSLA\n",
    "data = df['Close'].values"
   ]
  },
  {
   "cell_type": "markdown",
   "metadata": {},
   "source": [
    "## 1.2 - Criação de Variável Alvo (Classificação)\n",
    "Como você mencionou métricas como acurácia, falso negativo e F1-score, que são usadas em problemas de classificação, vamos converter o problema em uma tarefa de classificação binária (por exemplo, prever se o preço da ação vai subir ou descer no próximo dia)."
   ]
  },
  {
   "cell_type": "code",
   "execution_count": 43,
   "metadata": {},
   "outputs": [],
   "source": [
    "df['Target'] = np.where(df['Close'].shift(-1) > df['Close'], 1, 0)"
   ]
  },
  {
   "cell_type": "markdown",
   "metadata": {},
   "source": [
    "## 1.3 - Seleção de Recursos (Features)"
   ]
  },
  {
   "cell_type": "code",
   "execution_count": 44,
   "metadata": {},
   "outputs": [],
   "source": [
    "features = ['Open', 'High', 'Low', 'Close', 'Volume']\n",
    "X = df[features].values\n",
    "y = df['Target'].values"
   ]
  },
  {
   "cell_type": "markdown",
   "metadata": {},
   "source": [
    "## 1.4 - Normalização dos Dados"
   ]
  },
  {
   "cell_type": "code",
   "execution_count": 45,
   "metadata": {},
   "outputs": [],
   "source": [
    "scaler = MinMaxScaler()\n",
    "X_scaled = scaler.fit_transform(X)"
   ]
  },
  {
   "cell_type": "markdown",
   "metadata": {},
   "source": [
    "# 2 - Criação de Sequências para Treinamento"
   ]
  },
  {
   "cell_type": "code",
   "execution_count": 46,
   "metadata": {},
   "outputs": [],
   "source": [
    "# Defina o tamanho da janela de tempo (por exemplo, 60 dias):\n",
    "window_size = 60\n",
    "\n",
    "# Criando sequências de dados\n",
    "X_sequences = []\n",
    "y_sequences = []\n",
    "\n",
    "for i in range(len(X_scaled) - window_size):\n",
    "    X_sequences.append(X_scaled[i:i+window_size])\n",
    "    y_sequences.append(y[i+window_size])\n",
    "\n",
    "X_sequences = np.array(X_sequences)\n",
    "y_sequences = np.array(y_sequences)\n",
    "\n"
   ]
  },
  {
   "cell_type": "markdown",
   "metadata": {},
   "source": [
    "# 3 - Redimensionamento dos Dados"
   ]
  },
  {
   "cell_type": "code",
   "execution_count": 47,
   "metadata": {},
   "outputs": [],
   "source": [
    "# Redimensionando X para 3 dimensões (necessário para Conv1D)\n",
    "X = np.expand_dims(X, axis=2)"
   ]
  },
  {
   "cell_type": "markdown",
   "metadata": {},
   "source": [
    "# 4 - Divisão dos Dados em Treino e Teste"
   ]
  },
  {
   "cell_type": "markdown",
   "metadata": {},
   "source": [
    "## 4.1 Dividindo os Dados"
   ]
  },
  {
   "cell_type": "code",
   "execution_count": 48,
   "metadata": {},
   "outputs": [],
   "source": [
    "split = int(0.7 * len(X_sequences))\n",
    "X_train, X_test = X_sequences[:split], X_sequences[split:]\n",
    "y_train, y_test = y_sequences[:split], y_sequences[split:]"
   ]
  },
  {
   "cell_type": "markdown",
   "metadata": {},
   "source": [
    "# 5 - Construção do Modelo CNN"
   ]
  },
  {
   "cell_type": "code",
   "execution_count": 49,
   "metadata": {},
   "outputs": [],
   "source": [
    "model = Sequential()"
   ]
  },
  {
   "cell_type": "markdown",
   "metadata": {},
   "source": [
    "## 5.1 - Adicionando Camadas ao Modelo"
   ]
  },
  {
   "cell_type": "code",
   "execution_count": 50,
   "metadata": {},
   "outputs": [],
   "source": [
    "model.add(Conv1D(filters=64, kernel_size=3, activation='relu', input_shape=(window_size, X_train.shape[2])))\n",
    "model.add(MaxPooling1D(pool_size=2))\n",
    "model.add(Flatten())\n",
    "model.add(Dense(50, activation='relu'))\n",
    "model.add(Dense(1, activation='sigmoid'))"
   ]
  },
  {
   "cell_type": "markdown",
   "metadata": {},
   "source": [
    "## 5.2 - Compilando Modelo"
   ]
  },
  {
   "cell_type": "code",
   "execution_count": 51,
   "metadata": {},
   "outputs": [],
   "source": [
    "model.compile(optimizer='adam', loss='binary_crossentropy', metrics=['accuracy'])"
   ]
  },
  {
   "cell_type": "markdown",
   "metadata": {},
   "source": [
    "# 6 - Treinamento do Modelo"
   ]
  },
  {
   "cell_type": "code",
   "execution_count": 52,
   "metadata": {},
   "outputs": [
    {
     "name": "stdout",
     "output_type": "stream",
     "text": [
      "Epoch 1/50\n",
      "25/25 [==============================] - 1s 13ms/step - loss: 0.7043 - accuracy: 0.5186 - val_loss: 0.6969 - val_accuracy: 0.5224\n",
      "Epoch 2/50\n",
      "25/25 [==============================] - 0s 5ms/step - loss: 0.6977 - accuracy: 0.5225 - val_loss: 0.6982 - val_accuracy: 0.5224\n",
      "Epoch 3/50\n",
      "25/25 [==============================] - 0s 5ms/step - loss: 0.6912 - accuracy: 0.5456 - val_loss: 0.6926 - val_accuracy: 0.4925\n",
      "Epoch 4/50\n",
      "25/25 [==============================] - 0s 5ms/step - loss: 0.6947 - accuracy: 0.5148 - val_loss: 0.6929 - val_accuracy: 0.5224\n",
      "Epoch 5/50\n",
      "25/25 [==============================] - 0s 5ms/step - loss: 0.6930 - accuracy: 0.5148 - val_loss: 0.6937 - val_accuracy: 0.5224\n",
      "Epoch 6/50\n",
      "25/25 [==============================] - 0s 5ms/step - loss: 0.6901 - accuracy: 0.5186 - val_loss: 0.6928 - val_accuracy: 0.4925\n",
      "Epoch 7/50\n",
      "25/25 [==============================] - 0s 5ms/step - loss: 0.6889 - accuracy: 0.5379 - val_loss: 0.6922 - val_accuracy: 0.5224\n",
      "Epoch 8/50\n",
      "25/25 [==============================] - 0s 5ms/step - loss: 0.6858 - accuracy: 0.5417 - val_loss: 0.6916 - val_accuracy: 0.5224\n",
      "Epoch 9/50\n",
      "25/25 [==============================] - 0s 5ms/step - loss: 0.6876 - accuracy: 0.5392 - val_loss: 0.6913 - val_accuracy: 0.5134\n",
      "Epoch 10/50\n",
      "25/25 [==============================] - 0s 5ms/step - loss: 0.6841 - accuracy: 0.5481 - val_loss: 0.6919 - val_accuracy: 0.5224\n",
      "Epoch 11/50\n",
      "25/25 [==============================] - 0s 5ms/step - loss: 0.6853 - accuracy: 0.5379 - val_loss: 0.6924 - val_accuracy: 0.5015\n",
      "Epoch 12/50\n",
      "25/25 [==============================] - 0s 5ms/step - loss: 0.6830 - accuracy: 0.5558 - val_loss: 0.6914 - val_accuracy: 0.5045\n",
      "Epoch 13/50\n",
      "25/25 [==============================] - 0s 5ms/step - loss: 0.6823 - accuracy: 0.5700 - val_loss: 0.6916 - val_accuracy: 0.4806\n",
      "Epoch 14/50\n",
      "25/25 [==============================] - 0s 5ms/step - loss: 0.6826 - accuracy: 0.5674 - val_loss: 0.6925 - val_accuracy: 0.5224\n",
      "Epoch 15/50\n",
      "25/25 [==============================] - 0s 5ms/step - loss: 0.6787 - accuracy: 0.5584 - val_loss: 0.6919 - val_accuracy: 0.5015\n",
      "Epoch 16/50\n",
      "25/25 [==============================] - 0s 5ms/step - loss: 0.6771 - accuracy: 0.5623 - val_loss: 0.6933 - val_accuracy: 0.5224\n",
      "Epoch 17/50\n",
      "25/25 [==============================] - 0s 5ms/step - loss: 0.6766 - accuracy: 0.5571 - val_loss: 0.6932 - val_accuracy: 0.5194\n",
      "Epoch 18/50\n",
      "25/25 [==============================] - 0s 5ms/step - loss: 0.6755 - accuracy: 0.5738 - val_loss: 0.6939 - val_accuracy: 0.4896\n",
      "Epoch 19/50\n",
      "25/25 [==============================] - 0s 5ms/step - loss: 0.6784 - accuracy: 0.5546 - val_loss: 0.6942 - val_accuracy: 0.5224\n",
      "Epoch 20/50\n",
      "25/25 [==============================] - 0s 5ms/step - loss: 0.6759 - accuracy: 0.5558 - val_loss: 0.6931 - val_accuracy: 0.5254\n",
      "Epoch 21/50\n",
      "25/25 [==============================] - 0s 5ms/step - loss: 0.6688 - accuracy: 0.5751 - val_loss: 0.6940 - val_accuracy: 0.4955\n",
      "Epoch 22/50\n",
      "25/25 [==============================] - 0s 5ms/step - loss: 0.6680 - accuracy: 0.6033 - val_loss: 0.6944 - val_accuracy: 0.5045\n",
      "Epoch 23/50\n",
      "25/25 [==============================] - 0s 5ms/step - loss: 0.6700 - accuracy: 0.5751 - val_loss: 0.6939 - val_accuracy: 0.5134\n",
      "Epoch 24/50\n",
      "25/25 [==============================] - 0s 5ms/step - loss: 0.6672 - accuracy: 0.5687 - val_loss: 0.6968 - val_accuracy: 0.5164\n",
      "Epoch 25/50\n",
      "25/25 [==============================] - 0s 5ms/step - loss: 0.6646 - accuracy: 0.5854 - val_loss: 0.6942 - val_accuracy: 0.4657\n",
      "Epoch 26/50\n",
      "25/25 [==============================] - 0s 5ms/step - loss: 0.6635 - accuracy: 0.5995 - val_loss: 0.6988 - val_accuracy: 0.5104\n",
      "Epoch 27/50\n",
      "25/25 [==============================] - 0s 5ms/step - loss: 0.6650 - accuracy: 0.5789 - val_loss: 0.6950 - val_accuracy: 0.5104\n",
      "Epoch 28/50\n",
      "25/25 [==============================] - 0s 5ms/step - loss: 0.6621 - accuracy: 0.5751 - val_loss: 0.6955 - val_accuracy: 0.4776\n",
      "Epoch 29/50\n",
      "25/25 [==============================] - 0s 5ms/step - loss: 0.6554 - accuracy: 0.6239 - val_loss: 0.7013 - val_accuracy: 0.4955\n",
      "Epoch 30/50\n",
      "25/25 [==============================] - 0s 5ms/step - loss: 0.6576 - accuracy: 0.5995 - val_loss: 0.6983 - val_accuracy: 0.4746\n",
      "Epoch 31/50\n",
      "25/25 [==============================] - 0s 5ms/step - loss: 0.6556 - accuracy: 0.5918 - val_loss: 0.7031 - val_accuracy: 0.4985\n",
      "Epoch 32/50\n",
      "25/25 [==============================] - 0s 5ms/step - loss: 0.6524 - accuracy: 0.6213 - val_loss: 0.7014 - val_accuracy: 0.5104\n",
      "Epoch 33/50\n",
      "25/25 [==============================] - 0s 5ms/step - loss: 0.6505 - accuracy: 0.6136 - val_loss: 0.7059 - val_accuracy: 0.4537\n",
      "Epoch 34/50\n",
      "25/25 [==============================] - 0s 5ms/step - loss: 0.6473 - accuracy: 0.6213 - val_loss: 0.7052 - val_accuracy: 0.4836\n",
      "Epoch 35/50\n",
      "25/25 [==============================] - 0s 5ms/step - loss: 0.6477 - accuracy: 0.6098 - val_loss: 0.7063 - val_accuracy: 0.5045\n",
      "Epoch 36/50\n",
      "25/25 [==============================] - 0s 5ms/step - loss: 0.6456 - accuracy: 0.6252 - val_loss: 0.7077 - val_accuracy: 0.4955\n",
      "Epoch 37/50\n",
      "25/25 [==============================] - 0s 5ms/step - loss: 0.6413 - accuracy: 0.6149 - val_loss: 0.7071 - val_accuracy: 0.5015\n",
      "Epoch 38/50\n",
      "25/25 [==============================] - 0s 5ms/step - loss: 0.6389 - accuracy: 0.6354 - val_loss: 0.7211 - val_accuracy: 0.4925\n",
      "Epoch 39/50\n",
      "25/25 [==============================] - 0s 5ms/step - loss: 0.6413 - accuracy: 0.6277 - val_loss: 0.7080 - val_accuracy: 0.4687\n",
      "Epoch 40/50\n",
      "25/25 [==============================] - 0s 5ms/step - loss: 0.6342 - accuracy: 0.6367 - val_loss: 0.7083 - val_accuracy: 0.4806\n",
      "Epoch 41/50\n",
      "25/25 [==============================] - 0s 5ms/step - loss: 0.6338 - accuracy: 0.6175 - val_loss: 0.7178 - val_accuracy: 0.4478\n",
      "Epoch 42/50\n",
      "25/25 [==============================] - 0s 5ms/step - loss: 0.6345 - accuracy: 0.6354 - val_loss: 0.7101 - val_accuracy: 0.4567\n",
      "Epoch 43/50\n",
      "25/25 [==============================] - 0s 5ms/step - loss: 0.6307 - accuracy: 0.6290 - val_loss: 0.7151 - val_accuracy: 0.4716\n",
      "Epoch 44/50\n",
      "25/25 [==============================] - 0s 5ms/step - loss: 0.6240 - accuracy: 0.6457 - val_loss: 0.7182 - val_accuracy: 0.4478\n",
      "Epoch 45/50\n",
      "25/25 [==============================] - 0s 5ms/step - loss: 0.6301 - accuracy: 0.6329 - val_loss: 0.7220 - val_accuracy: 0.4866\n",
      "Epoch 46/50\n",
      "25/25 [==============================] - 0s 5ms/step - loss: 0.6272 - accuracy: 0.6393 - val_loss: 0.7715 - val_accuracy: 0.5104\n",
      "Epoch 47/50\n",
      "25/25 [==============================] - 0s 5ms/step - loss: 0.6224 - accuracy: 0.6341 - val_loss: 0.7198 - val_accuracy: 0.4507\n",
      "Epoch 48/50\n",
      "25/25 [==============================] - 0s 5ms/step - loss: 0.6226 - accuracy: 0.6508 - val_loss: 0.7281 - val_accuracy: 0.4806\n",
      "Epoch 49/50\n",
      "25/25 [==============================] - 0s 5ms/step - loss: 0.6183 - accuracy: 0.6354 - val_loss: 0.7211 - val_accuracy: 0.4836\n",
      "Epoch 50/50\n",
      "25/25 [==============================] - 0s 5ms/step - loss: 0.6132 - accuracy: 0.6714 - val_loss: 0.7244 - val_accuracy: 0.4687\n"
     ]
    }
   ],
   "source": [
    "history = model.fit(X_train, y_train, epochs=50, batch_size=32, validation_data=(X_test, y_test))"
   ]
  },
  {
   "cell_type": "markdown",
   "metadata": {},
   "source": [
    "# 7 - Avaliação do Modelo"
   ]
  },
  {
   "cell_type": "code",
   "execution_count": 53,
   "metadata": {},
   "outputs": [
    {
     "name": "stdout",
     "output_type": "stream",
     "text": [
      "11/11 [==============================] - 0s 2ms/step\n",
      "Acurácia no teste: 0.46865671641791046\n",
      "Relatório de Classificação:\n",
      "              precision    recall  f1-score   support\n",
      "\n",
      "           0       0.40      0.22      0.28       160\n",
      "           1       0.49      0.70      0.58       175\n",
      "\n",
      "    accuracy                           0.47       335\n",
      "   macro avg       0.45      0.46      0.43       335\n",
      "weighted avg       0.45      0.47      0.44       335\n",
      "\n",
      "Matriz de Confusão:\n",
      "[[ 35 125]\n",
      " [ 53 122]]\n"
     ]
    }
   ],
   "source": [
    "y_pred = (model.predict(X_test) > 0.5).astype(\"int32\")\n",
    "\n",
    "# Métricas de Desempenho\n",
    "print(\"Acurácia no teste:\", accuracy_score(y_test, y_pred))\n",
    "print(\"Relatório de Classificação:\")\n",
    "print(classification_report(y_test, y_pred))\n",
    "print(\"Matriz de Confusão:\")\n",
    "print(confusion_matrix(y_test, y_pred))"
   ]
  },
  {
   "cell_type": "markdown",
   "metadata": {},
   "source": [
    "# 9 - Visualização dos Resultados"
   ]
  },
  {
   "cell_type": "code",
   "execution_count": 54,
   "metadata": {},
   "outputs": [
    {
     "data": {
      "image/png": "[encoded data removed]",
      "text/plain": [
       "<Figure size 1400x500 with 1 Axes>"
      ]
     },
     "metadata": {},
     "output_type": "display_data"
    }
   ],
   "source": [
    "plt.figure(figsize=(14,5))\n",
    "plt.plot(history.history['accuracy'], label='Acurácia de Treino')\n",
    "plt.plot(history.history['val_accuracy'], label='Acurácia de Validação')\n",
    "plt.title('Acurácia durante o Treinamento')\n",
    "plt.xlabel('Épocas')\n",
    "plt.ylabel('Acurácia')\n",
    "plt.legend()\n",
    "plt.show()"
   ]
  },
  {
   "cell_type": "markdown",
   "metadata": {},
   "source": [
    "# 10 - Análise Estatística ao Longo dos Anos"
   ]
  },
  {
   "cell_type": "markdown",
   "metadata": {},
   "source": [
    "## 10.1 - Preparar dados para Múltiplos Anos:\n",
    "\n",
    "Vamos dividir os dados por ano e treinar/testar o modelo para cada ano, coletando as métricas de desempenho para calcular a média e o desvio padrão."
   ]
  },
  {
   "cell_type": "code",
   "execution_count": 55,
   "metadata": {},
   "outputs": [
    {
     "ename": "NameError",
     "evalue": "name 'current_year_accuracy' is not defined",
     "output_type": "error",
     "traceback": [
      "\u001b[1;31m---------------------------------------------------------------------------\u001b[0m",
      "\u001b[1;31mNameError\u001b[0m                                 Traceback (most recent call last)",
      "Cell \u001b[1;32mIn[55], line 9\u001b[0m\n\u001b[0;32m      6\u001b[0m df_year \u001b[38;5;241m=\u001b[39m df[df[\u001b[38;5;124m'\u001b[39m\u001b[38;5;124mDate\u001b[39m\u001b[38;5;124m'\u001b[39m]\u001b[38;5;241m.\u001b[39mdt\u001b[38;5;241m.\u001b[39myear \u001b[38;5;241m==\u001b[39m year]\n\u001b[0;32m      7\u001b[0m \u001b[38;5;66;03m# (Repetir os passos de preparação, treinamento e avaliação para cada ano)\u001b[39;00m\n\u001b[0;32m      8\u001b[0m \u001b[38;5;66;03m# Armazenar a acurácia do ano atual\u001b[39;00m\n\u001b[1;32m----> 9\u001b[0m accuracies\u001b[38;5;241m.\u001b[39mappend(\u001b[43mcurrent_year_accuracy\u001b[49m)\n",
      "\u001b[1;31mNameError\u001b[0m: name 'current_year_accuracy' is not defined"
     ]
    }
   ],
   "source": [
    "years = df['Date'].dt.year.unique()\n",
    "accuracies = []\n",
    "\n",
    "for year in years:\n",
    "    # Filtrar dados do ano\n",
    "    df_year = df[df['Date'].dt.year == year]\n",
    "    # (Repetir os passos de preparação, treinamento e avaliação para cada ano)\n",
    "    # Armazenar a acurácia do ano atual\n",
    "    accuracies.append(current_year_accuracy)"
   ]
  },
  {
   "cell_type": "markdown",
   "metadata": {},
   "source": [
    "## 10.2 - Calcular Média e Desvio Padrão da Acurácia"
   ]
  },
  {
   "cell_type": "code",
   "execution_count": null,
   "metadata": {},
   "outputs": [],
   "source": [
    "mean_accuracy = np.mean(accuracies)\n",
    "std_accuracy = np.std(accuracies)\n",
    "print(f'Acurácia Média: {mean_accuracy}')\n",
    "print(f'Desvio Padrão da Acurácia: {std_accuracy}')"
   ]
  },
  {
   "cell_type": "markdown",
   "metadata": {},
   "source": [
    "# 11 - Testar Diversos Modelos\n",
    "Variar arquiteturas de modelos:\n",
    "\n",
    "- Alterar o número de camadas convolucionais.\n",
    "- Modificar o tamanho do kernel e o número de filtros.\n",
    "- Testar diferentes funções de ativação e otimizadores.\n",
    "- Comparar com outros modelos (por exemplo, LSTM, modelos baseados em ARIMA)"
   ]
  },
  {
   "cell_type": "markdown",
   "metadata": {},
   "source": [
    "## 11.1 - Comparar Métricas de Desempenho"
   ]
  },
  {
   "cell_type": "code",
   "execution_count": null,
   "metadata": {},
   "outputs": [],
   "source": [
    "# Armazenar métricas de cada modelo\n",
    "model_results = {\n",
    "    'Modelo 1': {'acurácia': acc1, 'precisão': prec1},\n",
    "    'Modelo 2': {'acurácia': acc2, 'precisão': prec2},\n",
    "    # ...\n",
    "}\n",
    "\n",
    "# Calcular desvio padrão das métricas\n",
    "accuracies = [result['acurácia'] for result in model_results.values()]\n",
    "precisions = [result['precisão'] for result in model_results.values()]\n",
    "\n",
    "mean_acc = np.mean(accuracies)\n",
    "std_acc = np.std(accuracies)\n",
    "mean_prec = np.mean(precisions)\n",
    "std_prec = np.std(precisions)\n",
    "\n",
    "print(f'Acurácia Média entre Modelos: {mean_acc}, Desvio Padrão: {std_acc}')\n",
    "print(f'Precisão Média entre Modelos: {mean_prec}, Desvio Padrão: {std_prec}')"
   ]
  },
  {
   "cell_type": "markdown",
   "metadata": {},
   "source": [
    "15. Documentação e Análise Final\n",
    "\n",
    "Documente cada modelo testado:\n",
    "- Arquitetura do modelo.\n",
    "- Hiperparâmetros utilizados.\n",
    "- Métricas de desempenho obtidas.\n",
    "\n",
    "Análise Comparativa:\n",
    "- Identifique qual modelo apresentou o melhor desempenho.\n",
    "- Discuta possíveis razões para as diferenças observadas.\n",
    "- Considere o trade-off entre complexidade do modelo e desempenho.\n",
    "\n",
    "Conclusões:\n",
    "- Apresente insights sobre a previsibilidade dos preços das ações com base nos modelos testados.\n",
    "- Destaque as limitações encontradas e sugira possíveis melhorias para trabalhos futuros.\n"
   ]
  },
  {
   "cell_type": "markdown",
   "metadata": {},
   "source": [
    "Considerações Especiais\n",
    "Manutenção da Ordem Temporal:\n",
    "\n",
    "- É crucial não embaralhar os dados, pois a sequência temporal influencia diretamente nas previsões financeiras.\n",
    "\n",
    "Avaliação Apropriada de Métricas:\n",
    "- Para problemas de classificação binária em séries temporais financeiras, além de acurácia, considere utilizar métricas como ROC AUC, F1-score, precisão e revocação.\n",
    "\n",
    "Validação Cruzada em Séries Temporais:\n",
    "- Utilize técnicas de validação cruzada específicas para séries temporais, como TimeSeriesSplit do Scikit-learn."
   ]
  },
  {
   "cell_type": "code",
   "execution_count": null,
   "metadata": {},
   "outputs": [],
   "source": [
    "tscv = TimeSeriesSplit(n_splits=5)\n",
    "for train_index, test_index in tscv.split(X_sequences):\n",
    "    X_train, X_test = X_sequences[train_index], X_sequences[test_index]\n",
    "    y_train, y_test = y_sequences[train_index], y_sequences[test_index]\n",
    "    # Treinar e avaliar o modelo"
   ]
  },
  {
   "cell_type": "markdown",
   "metadata": {},
   "source": [
    "Análise de Desempenho ao Longo do Tempo:\n",
    "- Verifique se o desempenho do modelo se mantém consistente ao longo dos anos ou se há variabilidade significativa.\n",
    "\n",
    "Consideração de Fatores Externos:\n",
    "- Considere incorporar indicadores técnicos ou dados macroeconômicos que possam afetar os preços das ações."
   ]
  },
  {
   "cell_type": "markdown",
   "metadata": {},
   "source": [
    "Dicas Finais\n",
    "\n",
    "Registrar Todos os Resultados:\n",
    "- Mantenha um registro detalhado dos resultados de cada modelo e configuração testada para facilitar a análise comparativa.\n",
    "\n",
    "Reprodutibilidade:\n",
    "- Assegure-se de que todo o código e procedimentos sejam reprodutíveis, permitindo que outros validem e construam sobre o seu trabalho.\n",
    "\n",
    "Discussão Crítica:\n",
    "- Analise não apenas os resultados positivos, mas também as limitações e desafios enfrentados durante o projeto."
   ]
  },
  {
   "cell_type": "markdown",
   "metadata": {},
   "source": []
  }
 ],
 "metadata": {
  "kernelspec": {
   "display_name": "base",
   "language": "python",
   "name": "python3"
  },
  "language_info": {
   "codemirror_mode": {
    "name": "ipython",
    "version": 3
   },
   "file_extension": ".py",
   "mimetype": "text/x-python",
   "name": "python",
   "nbconvert_exporter": "python",
   "pygments_lexer": "ipython3",
   "version": "3.11.9"
  }
 },
 "nbformat": 4,
 "nbformat_minor": 2
}
